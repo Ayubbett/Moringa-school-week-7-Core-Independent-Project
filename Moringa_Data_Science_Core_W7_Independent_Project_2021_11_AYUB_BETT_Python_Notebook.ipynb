{
  "nbformat": 4,
  "nbformat_minor": 0,
  "metadata": {
    "colab": {
      "name": "Moringa_Data_Science_Core_W7_Independent_Project_2021_11_AYUB_BETT_Python_Notebook.ipynb",
      "provenance": [],
      "authorship_tag": "ABX9TyMpU1U8nWZCfCoNlyJgD5sk",
      "include_colab_link": true
    },
    "kernelspec": {
      "name": "python3",
      "display_name": "Python 3"
    },
    "language_info": {
      "name": "python"
    }
  },
  "cells": [
    {
      "cell_type": "markdown",
      "metadata": {
        "id": "view-in-github",
        "colab_type": "text"
      },
      "source": [
        "<a href=\"https://colab.research.google.com/github/Ayubbett/Moringa-school-week-7-Core-Independent-Project/blob/main/Moringa_Data_Science_Core_W7_Independent_Project_2021_11_AYUB_BETT_Python_Notebook.ipynb\" target=\"_parent\"><img src=\"https://colab.research.google.com/assets/colab-badge.svg\" alt=\"Open In Colab\"/></a>"
      ]
    },
    {
      "cell_type": "markdown",
      "metadata": {
        "id": "jVVHntgYfh3W"
      },
      "source": [
        "# **FACTORS AFFECTING HOUSING PRICES**"
      ]
    },
    {
      "cell_type": "markdown",
      "metadata": {
        "id": "tKulN2l0ft4C"
      },
      "source": [
        "# Assessment Question"
      ]
    },
    {
      "cell_type": "markdown",
      "metadata": {
        "id": "gJy1mf5jfyxQ"
      },
      "source": [
        "As a Data Scientist, you work for Hass Consulting Company which is a real estate leader with over 25 years of experience. You have been tasked to study the factors that affect housing prices using the given information on real estate properties that was collected over the past few months. Later onwards, create a model that would allow the company to accurately predict the sale of prices upon being provided with the predictor variables. "
      ]
    },
    {
      "cell_type": "markdown",
      "metadata": {
        "id": "UFXCznZ3f3OG"
      },
      "source": [
        "# 1. Defining the Question"
      ]
    },
    {
      "cell_type": "markdown",
      "metadata": {
        "id": "ckeVIpfugFXC"
      },
      "source": [
        "# a) Specifying the Question"
      ]
    },
    {
      "cell_type": "markdown",
      "metadata": {
        "id": "wm6dLGOQgJqZ"
      },
      "source": [
        "Given a dataset containing factors that might affect theprices of housing price, we work on behalf of  Hass Consulting Company which is a real estate leader with over 25 years of experience to build a model that will help evaluate the price of a house given some features about it."
      ]
    },
    {
      "cell_type": "markdown",
      "metadata": {
        "id": "HHxbHt-pgyGY"
      },
      "source": [
        "# b) Defining the Metric for Success"
      ]
    },
    {
      "cell_type": "markdown",
      "metadata": {
        "id": "rxKgyHCMg5BT"
      },
      "source": [
        "We will build a model basing our research on five regression techniques with our aim of having 70 percent accuracy score on the data."
      ]
    },
    {
      "cell_type": "markdown",
      "metadata": {
        "id": "_yQ8e5E4hVJU"
      },
      "source": [
        "# c) Understanding the context"
      ]
    },
    {
      "cell_type": "markdown",
      "metadata": {
        "id": "0uyfpiPuhiYQ"
      },
      "source": [
        "Hall Consulting Company is a real estate company that has been around the scene for over 25 years now. Their main goal is to provide affordable housing for their customers. That said, they have collected data from their previously sold houses which include features that make different houses stand out from the rest. Our goal is to create a model that predicts the price of a house given some of the features. We will also advise them on what to make better basing on the fact their coefficients will be high compared to others and likewise put minimum attention to some features."
      ]
    },
    {
      "cell_type": "markdown",
      "metadata": {
        "id": "D0wj5SXMiy5a"
      },
      "source": [
        "# d) Recording the Experimental Design"
      ]
    },
    {
      "cell_type": "markdown",
      "metadata": {
        "id": "gSugGwSDi1fm"
      },
      "source": [
        "\n",
        "Below is the expected flow of the analysis\n",
        "*   Find and deal with outliers, anomalies, and missing data within   the dataset.\n",
        "*   Perform univariate, bivariate and multivariate analysis recording your observations.\n",
        "\n",
        "*   Performing regression analysis.\n",
        "*   Incorporate categorical independent variables into your models.\n",
        "\n",
        "*   Check for multicollinearity\n",
        "*   Provide a recommendation based on your analysis.\n",
        "\n",
        "*   Create residual plots for your models, and assess heteroskedasticity using Barlett's test.\n",
        "*   Challenge your solution by providing insights on how you can make improvements in model improvement.\n",
        "\n",
        "\n",
        "\n",
        "\n",
        "\n",
        "\n",
        "\n",
        "\n",
        "\n"
      ]
    },
    {
      "cell_type": "markdown",
      "metadata": {
        "id": "8LncjctdjpQb"
      },
      "source": [
        "# e) Data relevance / Appropriateness of Data"
      ]
    },
    {
      "cell_type": "markdown",
      "metadata": {
        "id": "aI2WQ-XDkK8-"
      },
      "source": [
        "Below are the expalanation of the column names\n",
        "\n",
        "*   Id - Identification of the entry\n",
        "*   price  - Price of the house\n",
        "\n",
        "*   bedrooms - Number of Bedrooms\n",
        "*   bathrooms - Number of Bathrooms\n",
        "\n",
        "*   sqft_living - Square feet area of living area\n",
        "*   sqft_lot  - Square feet area of parking Layout\n",
        "\n",
        "*   floors - Number of Floors\n",
        "*   waterfront - Whether waterfront is there or not\n",
        "\n",
        "*   view - Number of Views\n",
        "*   grade - Grades\n",
        "\n",
        "*   sqft_above\n",
        "*   sqft_basement - Square feet area off basement\n",
        "\n",
        "*   yr_built - Year the house is built\n",
        "*   yr_renovated - Year the house is renovated\n",
        "\n",
        "*   zipcode - zipcode os the house\n",
        "*   lat : Latitude of the house\n",
        "\n",
        "*   lon : Longitude of the house\n",
        "*   sqft_living15\n",
        "\n",
        "*   sqft_lot15\n",
        "\n",
        "\n",
        "\n",
        "\n",
        "\n",
        "\n",
        "\n",
        "\n",
        "\n",
        "\n",
        "\n"
      ]
    },
    {
      "cell_type": "markdown",
      "metadata": {
        "id": "10i-SH_ilsFr"
      },
      "source": [
        "**Data Exploration**"
      ]
    },
    {
      "cell_type": "markdown",
      "metadata": {
        "id": "k6sjt4SMj-vO"
      },
      "source": [
        "**Importing Libraries**"
      ]
    },
    {
      "cell_type": "code",
      "metadata": {
        "id": "M_uI0gWycp8O"
      },
      "source": [
        "#Importing libraries we will use for data manipulation and visualization\n",
        "import numpy as np \n",
        "import pandas as pd \n",
        "import matplotlib.pyplot as plt\n",
        "import seaborn as sns"
      ],
      "execution_count": 1,
      "outputs": []
    },
    {
      "cell_type": "markdown",
      "metadata": {
        "id": "UBbtkFJJm1JG"
      },
      "source": [
        "**Reading the Data**"
      ]
    },
    {
      "cell_type": "code",
      "metadata": {
        "id": "K4kWvF1Em2t1"
      },
      "source": [
        "house_df = pd.read_csv(\"Independent Project Week 7 - house_data.csv\")"
      ],
      "execution_count": 3,
      "outputs": []
    },
    {
      "cell_type": "markdown",
      "metadata": {
        "id": "XYuQnaxonGDy"
      },
      "source": [
        "**Data Exploration**"
      ]
    },
    {
      "cell_type": "code",
      "metadata": {
        "colab": {
          "base_uri": "https://localhost:8080/",
          "height": 223
        },
        "id": "43Ipo23OnIQo",
        "outputId": "2254c425-3879-4e08-cadd-fef2e8fdb18c"
      },
      "source": [
        "#Checking the top of the housing dataset\n",
        "house_df.head()"
      ],
      "execution_count": 4,
      "outputs": [
        {
          "output_type": "execute_result",
          "data": {
            "text/html": [
              "<div>\n",
              "<style scoped>\n",
              "    .dataframe tbody tr th:only-of-type {\n",
              "        vertical-align: middle;\n",
              "    }\n",
              "\n",
              "    .dataframe tbody tr th {\n",
              "        vertical-align: top;\n",
              "    }\n",
              "\n",
              "    .dataframe thead th {\n",
              "        text-align: right;\n",
              "    }\n",
              "</style>\n",
              "<table border=\"1\" class=\"dataframe\">\n",
              "  <thead>\n",
              "    <tr style=\"text-align: right;\">\n",
              "      <th></th>\n",
              "      <th>id</th>\n",
              "      <th>price</th>\n",
              "      <th>bedrooms</th>\n",
              "      <th>bathrooms</th>\n",
              "      <th>sqft_living</th>\n",
              "      <th>sqft_lot</th>\n",
              "      <th>floors</th>\n",
              "      <th>waterfront</th>\n",
              "      <th>view</th>\n",
              "      <th>condition</th>\n",
              "      <th>grade</th>\n",
              "      <th>sqft_above</th>\n",
              "      <th>sqft_basement</th>\n",
              "      <th>yr_built</th>\n",
              "      <th>yr_renovated</th>\n",
              "      <th>zipcode</th>\n",
              "      <th>lat</th>\n",
              "      <th>long</th>\n",
              "      <th>sqft_living15</th>\n",
              "      <th>sqft_lot15</th>\n",
              "    </tr>\n",
              "  </thead>\n",
              "  <tbody>\n",
              "    <tr>\n",
              "      <th>0</th>\n",
              "      <td>7129300520</td>\n",
              "      <td>221900.0</td>\n",
              "      <td>3</td>\n",
              "      <td>1.00</td>\n",
              "      <td>1180</td>\n",
              "      <td>5650</td>\n",
              "      <td>1.0</td>\n",
              "      <td>0</td>\n",
              "      <td>0</td>\n",
              "      <td>3</td>\n",
              "      <td>7</td>\n",
              "      <td>1180</td>\n",
              "      <td>0</td>\n",
              "      <td>1955</td>\n",
              "      <td>0</td>\n",
              "      <td>98178</td>\n",
              "      <td>47.5112</td>\n",
              "      <td>-122.257</td>\n",
              "      <td>1340</td>\n",
              "      <td>5650</td>\n",
              "    </tr>\n",
              "    <tr>\n",
              "      <th>1</th>\n",
              "      <td>6414100192</td>\n",
              "      <td>538000.0</td>\n",
              "      <td>3</td>\n",
              "      <td>2.25</td>\n",
              "      <td>2570</td>\n",
              "      <td>7242</td>\n",
              "      <td>2.0</td>\n",
              "      <td>0</td>\n",
              "      <td>0</td>\n",
              "      <td>3</td>\n",
              "      <td>7</td>\n",
              "      <td>2170</td>\n",
              "      <td>400</td>\n",
              "      <td>1951</td>\n",
              "      <td>1991</td>\n",
              "      <td>98125</td>\n",
              "      <td>47.7210</td>\n",
              "      <td>-122.319</td>\n",
              "      <td>1690</td>\n",
              "      <td>7639</td>\n",
              "    </tr>\n",
              "    <tr>\n",
              "      <th>2</th>\n",
              "      <td>5631500400</td>\n",
              "      <td>180000.0</td>\n",
              "      <td>2</td>\n",
              "      <td>1.00</td>\n",
              "      <td>770</td>\n",
              "      <td>10000</td>\n",
              "      <td>1.0</td>\n",
              "      <td>0</td>\n",
              "      <td>0</td>\n",
              "      <td>3</td>\n",
              "      <td>6</td>\n",
              "      <td>770</td>\n",
              "      <td>0</td>\n",
              "      <td>1933</td>\n",
              "      <td>0</td>\n",
              "      <td>98028</td>\n",
              "      <td>47.7379</td>\n",
              "      <td>-122.233</td>\n",
              "      <td>2720</td>\n",
              "      <td>8062</td>\n",
              "    </tr>\n",
              "    <tr>\n",
              "      <th>3</th>\n",
              "      <td>2487200875</td>\n",
              "      <td>604000.0</td>\n",
              "      <td>4</td>\n",
              "      <td>3.00</td>\n",
              "      <td>1960</td>\n",
              "      <td>5000</td>\n",
              "      <td>1.0</td>\n",
              "      <td>0</td>\n",
              "      <td>0</td>\n",
              "      <td>5</td>\n",
              "      <td>7</td>\n",
              "      <td>1050</td>\n",
              "      <td>910</td>\n",
              "      <td>1965</td>\n",
              "      <td>0</td>\n",
              "      <td>98136</td>\n",
              "      <td>47.5208</td>\n",
              "      <td>-122.393</td>\n",
              "      <td>1360</td>\n",
              "      <td>5000</td>\n",
              "    </tr>\n",
              "    <tr>\n",
              "      <th>4</th>\n",
              "      <td>1954400510</td>\n",
              "      <td>510000.0</td>\n",
              "      <td>3</td>\n",
              "      <td>2.00</td>\n",
              "      <td>1680</td>\n",
              "      <td>8080</td>\n",
              "      <td>1.0</td>\n",
              "      <td>0</td>\n",
              "      <td>0</td>\n",
              "      <td>3</td>\n",
              "      <td>8</td>\n",
              "      <td>1680</td>\n",
              "      <td>0</td>\n",
              "      <td>1987</td>\n",
              "      <td>0</td>\n",
              "      <td>98074</td>\n",
              "      <td>47.6168</td>\n",
              "      <td>-122.045</td>\n",
              "      <td>1800</td>\n",
              "      <td>7503</td>\n",
              "    </tr>\n",
              "  </tbody>\n",
              "</table>\n",
              "</div>"
            ],
            "text/plain": [
              "           id     price  bedrooms  ...     long  sqft_living15  sqft_lot15\n",
              "0  7129300520  221900.0         3  ... -122.257           1340        5650\n",
              "1  6414100192  538000.0         3  ... -122.319           1690        7639\n",
              "2  5631500400  180000.0         2  ... -122.233           2720        8062\n",
              "3  2487200875  604000.0         4  ... -122.393           1360        5000\n",
              "4  1954400510  510000.0         3  ... -122.045           1800        7503\n",
              "\n",
              "[5 rows x 20 columns]"
            ]
          },
          "metadata": {},
          "execution_count": 4
        }
      ]
    },
    {
      "cell_type": "code",
      "metadata": {
        "colab": {
          "base_uri": "https://localhost:8080/",
          "height": 223
        },
        "id": "FLsWgOe8nnVb",
        "outputId": "547296d1-2ce5-495a-8090-46e143ea2002"
      },
      "source": [
        "#Checking the bottom of the house dataset\n",
        "house_df.tail()"
      ],
      "execution_count": 5,
      "outputs": [
        {
          "output_type": "execute_result",
          "data": {
            "text/html": [
              "<div>\n",
              "<style scoped>\n",
              "    .dataframe tbody tr th:only-of-type {\n",
              "        vertical-align: middle;\n",
              "    }\n",
              "\n",
              "    .dataframe tbody tr th {\n",
              "        vertical-align: top;\n",
              "    }\n",
              "\n",
              "    .dataframe thead th {\n",
              "        text-align: right;\n",
              "    }\n",
              "</style>\n",
              "<table border=\"1\" class=\"dataframe\">\n",
              "  <thead>\n",
              "    <tr style=\"text-align: right;\">\n",
              "      <th></th>\n",
              "      <th>id</th>\n",
              "      <th>price</th>\n",
              "      <th>bedrooms</th>\n",
              "      <th>bathrooms</th>\n",
              "      <th>sqft_living</th>\n",
              "      <th>sqft_lot</th>\n",
              "      <th>floors</th>\n",
              "      <th>waterfront</th>\n",
              "      <th>view</th>\n",
              "      <th>condition</th>\n",
              "      <th>grade</th>\n",
              "      <th>sqft_above</th>\n",
              "      <th>sqft_basement</th>\n",
              "      <th>yr_built</th>\n",
              "      <th>yr_renovated</th>\n",
              "      <th>zipcode</th>\n",
              "      <th>lat</th>\n",
              "      <th>long</th>\n",
              "      <th>sqft_living15</th>\n",
              "      <th>sqft_lot15</th>\n",
              "    </tr>\n",
              "  </thead>\n",
              "  <tbody>\n",
              "    <tr>\n",
              "      <th>21608</th>\n",
              "      <td>263000018</td>\n",
              "      <td>360000.0</td>\n",
              "      <td>3</td>\n",
              "      <td>2.50</td>\n",
              "      <td>1530</td>\n",
              "      <td>1131</td>\n",
              "      <td>3.0</td>\n",
              "      <td>0</td>\n",
              "      <td>0</td>\n",
              "      <td>3</td>\n",
              "      <td>8</td>\n",
              "      <td>1530</td>\n",
              "      <td>0</td>\n",
              "      <td>2009</td>\n",
              "      <td>0</td>\n",
              "      <td>98103</td>\n",
              "      <td>47.6993</td>\n",
              "      <td>-122.346</td>\n",
              "      <td>1530</td>\n",
              "      <td>1509</td>\n",
              "    </tr>\n",
              "    <tr>\n",
              "      <th>21609</th>\n",
              "      <td>6600060120</td>\n",
              "      <td>400000.0</td>\n",
              "      <td>4</td>\n",
              "      <td>2.50</td>\n",
              "      <td>2310</td>\n",
              "      <td>5813</td>\n",
              "      <td>2.0</td>\n",
              "      <td>0</td>\n",
              "      <td>0</td>\n",
              "      <td>3</td>\n",
              "      <td>8</td>\n",
              "      <td>2310</td>\n",
              "      <td>0</td>\n",
              "      <td>2014</td>\n",
              "      <td>0</td>\n",
              "      <td>98146</td>\n",
              "      <td>47.5107</td>\n",
              "      <td>-122.362</td>\n",
              "      <td>1830</td>\n",
              "      <td>7200</td>\n",
              "    </tr>\n",
              "    <tr>\n",
              "      <th>21610</th>\n",
              "      <td>1523300141</td>\n",
              "      <td>402101.0</td>\n",
              "      <td>2</td>\n",
              "      <td>0.75</td>\n",
              "      <td>1020</td>\n",
              "      <td>1350</td>\n",
              "      <td>2.0</td>\n",
              "      <td>0</td>\n",
              "      <td>0</td>\n",
              "      <td>3</td>\n",
              "      <td>7</td>\n",
              "      <td>1020</td>\n",
              "      <td>0</td>\n",
              "      <td>2009</td>\n",
              "      <td>0</td>\n",
              "      <td>98144</td>\n",
              "      <td>47.5944</td>\n",
              "      <td>-122.299</td>\n",
              "      <td>1020</td>\n",
              "      <td>2007</td>\n",
              "    </tr>\n",
              "    <tr>\n",
              "      <th>21611</th>\n",
              "      <td>291310100</td>\n",
              "      <td>400000.0</td>\n",
              "      <td>3</td>\n",
              "      <td>2.50</td>\n",
              "      <td>1600</td>\n",
              "      <td>2388</td>\n",
              "      <td>2.0</td>\n",
              "      <td>0</td>\n",
              "      <td>0</td>\n",
              "      <td>3</td>\n",
              "      <td>8</td>\n",
              "      <td>1600</td>\n",
              "      <td>0</td>\n",
              "      <td>2004</td>\n",
              "      <td>0</td>\n",
              "      <td>98027</td>\n",
              "      <td>47.5345</td>\n",
              "      <td>-122.069</td>\n",
              "      <td>1410</td>\n",
              "      <td>1287</td>\n",
              "    </tr>\n",
              "    <tr>\n",
              "      <th>21612</th>\n",
              "      <td>1523300157</td>\n",
              "      <td>325000.0</td>\n",
              "      <td>2</td>\n",
              "      <td>0.75</td>\n",
              "      <td>1020</td>\n",
              "      <td>1076</td>\n",
              "      <td>2.0</td>\n",
              "      <td>0</td>\n",
              "      <td>0</td>\n",
              "      <td>3</td>\n",
              "      <td>7</td>\n",
              "      <td>1020</td>\n",
              "      <td>0</td>\n",
              "      <td>2008</td>\n",
              "      <td>0</td>\n",
              "      <td>98144</td>\n",
              "      <td>47.5941</td>\n",
              "      <td>-122.299</td>\n",
              "      <td>1020</td>\n",
              "      <td>1357</td>\n",
              "    </tr>\n",
              "  </tbody>\n",
              "</table>\n",
              "</div>"
            ],
            "text/plain": [
              "               id     price  bedrooms  ...     long  sqft_living15  sqft_lot15\n",
              "21608   263000018  360000.0         3  ... -122.346           1530        1509\n",
              "21609  6600060120  400000.0         4  ... -122.362           1830        7200\n",
              "21610  1523300141  402101.0         2  ... -122.299           1020        2007\n",
              "21611   291310100  400000.0         3  ... -122.069           1410        1287\n",
              "21612  1523300157  325000.0         2  ... -122.299           1020        1357\n",
              "\n",
              "[5 rows x 20 columns]"
            ]
          },
          "metadata": {},
          "execution_count": 5
        }
      ]
    },
    {
      "cell_type": "code",
      "metadata": {
        "colab": {
          "base_uri": "https://localhost:8080/"
        },
        "id": "0sVgOoHdnyFR",
        "outputId": "32553fa6-144d-4941-e729-5c04a852bc21"
      },
      "source": [
        "#Checking the number of columns and rows\n",
        "house_df.shape"
      ],
      "execution_count": 6,
      "outputs": [
        {
          "output_type": "execute_result",
          "data": {
            "text/plain": [
              "(21613, 20)"
            ]
          },
          "metadata": {},
          "execution_count": 6
        }
      ]
    },
    {
      "cell_type": "markdown",
      "metadata": {
        "id": "F2eZedcVn7xf"
      },
      "source": [
        "This housing dataset has 21613 rows and 20 columns"
      ]
    },
    {
      "cell_type": "markdown",
      "metadata": {
        "id": "y5L7WJ-toQ_p"
      },
      "source": [
        "**Data Wrangling**"
      ]
    },
    {
      "cell_type": "code",
      "metadata": {
        "colab": {
          "base_uri": "https://localhost:8080/"
        },
        "id": "Aouc0umBn1J3",
        "outputId": "2146a19c-92fe-4832-da3b-291ee9d7445b"
      },
      "source": [
        "#Checking for duplicates in the datasets\n",
        "house_df.duplicated().sum()"
      ],
      "execution_count": 7,
      "outputs": [
        {
          "output_type": "execute_result",
          "data": {
            "text/plain": [
              "3"
            ]
          },
          "metadata": {},
          "execution_count": 7
        }
      ]
    },
    {
      "cell_type": "markdown",
      "metadata": {
        "id": "icnaGNBhogWR"
      },
      "source": [
        "We have 3 duplicates in our dataset so we are going to drop them"
      ]
    },
    {
      "cell_type": "code",
      "metadata": {
        "id": "C7E4JkmCoodX"
      },
      "source": [
        "#Dropping the duplicated values\n",
        "house_df.drop_duplicates(inplace=True)"
      ],
      "execution_count": 8,
      "outputs": []
    },
    {
      "cell_type": "code",
      "metadata": {
        "colab": {
          "base_uri": "https://localhost:8080/"
        },
        "id": "bnHeRyg8oxDG",
        "outputId": "420c0c89-9441-402d-94dc-17d96e7d4c0b"
      },
      "source": [
        "#Recheking if the duplicates were dropped\n",
        "house_df.duplicated().sum()"
      ],
      "execution_count": 9,
      "outputs": [
        {
          "output_type": "execute_result",
          "data": {
            "text/plain": [
              "0"
            ]
          },
          "metadata": {},
          "execution_count": 9
        }
      ]
    },
    {
      "cell_type": "markdown",
      "metadata": {
        "id": "5O4Ei2DTo7TX"
      },
      "source": [
        "There are no more duplicates we are good to go to the next one"
      ]
    },
    {
      "cell_type": "code",
      "metadata": {
        "colab": {
          "base_uri": "https://localhost:8080/"
        },
        "id": "FX3EsOjbpCzg",
        "outputId": "29267c44-4e4b-444c-f6db-a591b13800e5"
      },
      "source": [
        "#Checking for null values\n",
        "house_df.isnull().sum()"
      ],
      "execution_count": 10,
      "outputs": [
        {
          "output_type": "execute_result",
          "data": {
            "text/plain": [
              "id               0\n",
              "price            0\n",
              "bedrooms         0\n",
              "bathrooms        0\n",
              "sqft_living      0\n",
              "sqft_lot         0\n",
              "floors           0\n",
              "waterfront       0\n",
              "view             0\n",
              "condition        0\n",
              "grade            0\n",
              "sqft_above       0\n",
              "sqft_basement    0\n",
              "yr_built         0\n",
              "yr_renovated     0\n",
              "zipcode          0\n",
              "lat              0\n",
              "long             0\n",
              "sqft_living15    0\n",
              "sqft_lot15       0\n",
              "dtype: int64"
            ]
          },
          "metadata": {},
          "execution_count": 10
        }
      ]
    },
    {
      "cell_type": "markdown",
      "metadata": {
        "id": "PFpI7n3gpYn3"
      },
      "source": [
        "There are no null values in our dataset"
      ]
    },
    {
      "cell_type": "code",
      "metadata": {
        "colab": {
          "base_uri": "https://localhost:8080/",
          "height": 314
        },
        "id": "EA3NbDdHpXJO",
        "outputId": "b576057c-e45a-4f39-9314-62b541ca4d82"
      },
      "source": [
        "#Checking for the descriptive statistics of the dataset\n",
        "house_df.describe()"
      ],
      "execution_count": 11,
      "outputs": [
        {
          "output_type": "execute_result",
          "data": {
            "text/html": [
              "<div>\n",
              "<style scoped>\n",
              "    .dataframe tbody tr th:only-of-type {\n",
              "        vertical-align: middle;\n",
              "    }\n",
              "\n",
              "    .dataframe tbody tr th {\n",
              "        vertical-align: top;\n",
              "    }\n",
              "\n",
              "    .dataframe thead th {\n",
              "        text-align: right;\n",
              "    }\n",
              "</style>\n",
              "<table border=\"1\" class=\"dataframe\">\n",
              "  <thead>\n",
              "    <tr style=\"text-align: right;\">\n",
              "      <th></th>\n",
              "      <th>id</th>\n",
              "      <th>price</th>\n",
              "      <th>bedrooms</th>\n",
              "      <th>bathrooms</th>\n",
              "      <th>sqft_living</th>\n",
              "      <th>sqft_lot</th>\n",
              "      <th>floors</th>\n",
              "      <th>waterfront</th>\n",
              "      <th>view</th>\n",
              "      <th>condition</th>\n",
              "      <th>grade</th>\n",
              "      <th>sqft_above</th>\n",
              "      <th>sqft_basement</th>\n",
              "      <th>yr_built</th>\n",
              "      <th>yr_renovated</th>\n",
              "      <th>zipcode</th>\n",
              "      <th>lat</th>\n",
              "      <th>long</th>\n",
              "      <th>sqft_living15</th>\n",
              "      <th>sqft_lot15</th>\n",
              "    </tr>\n",
              "  </thead>\n",
              "  <tbody>\n",
              "    <tr>\n",
              "      <th>count</th>\n",
              "      <td>2.161000e+04</td>\n",
              "      <td>2.161000e+04</td>\n",
              "      <td>21610.000000</td>\n",
              "      <td>21610.000000</td>\n",
              "      <td>21610.000000</td>\n",
              "      <td>2.161000e+04</td>\n",
              "      <td>21610.000000</td>\n",
              "      <td>21610.000000</td>\n",
              "      <td>21610.000000</td>\n",
              "      <td>21610.000000</td>\n",
              "      <td>21610.000000</td>\n",
              "      <td>21610.000000</td>\n",
              "      <td>21610.000000</td>\n",
              "      <td>21610.000000</td>\n",
              "      <td>21610.000000</td>\n",
              "      <td>21610.000000</td>\n",
              "      <td>21610.000000</td>\n",
              "      <td>21610.000000</td>\n",
              "      <td>21610.000000</td>\n",
              "      <td>21610.000000</td>\n",
              "    </tr>\n",
              "    <tr>\n",
              "      <th>mean</th>\n",
              "      <td>4.580161e+09</td>\n",
              "      <td>5.401789e+05</td>\n",
              "      <td>3.370847</td>\n",
              "      <td>2.114739</td>\n",
              "      <td>2079.881212</td>\n",
              "      <td>1.510829e+04</td>\n",
              "      <td>1.494239</td>\n",
              "      <td>0.007543</td>\n",
              "      <td>0.234197</td>\n",
              "      <td>3.409440</td>\n",
              "      <td>7.656779</td>\n",
              "      <td>1788.347894</td>\n",
              "      <td>291.533318</td>\n",
              "      <td>1971.003609</td>\n",
              "      <td>84.322351</td>\n",
              "      <td>98077.945673</td>\n",
              "      <td>47.560049</td>\n",
              "      <td>-122.213910</td>\n",
              "      <td>1986.518695</td>\n",
              "      <td>12769.031976</td>\n",
              "    </tr>\n",
              "    <tr>\n",
              "      <th>std</th>\n",
              "      <td>2.876547e+09</td>\n",
              "      <td>3.673876e+05</td>\n",
              "      <td>0.930110</td>\n",
              "      <td>0.770204</td>\n",
              "      <td>918.500299</td>\n",
              "      <td>4.142323e+04</td>\n",
              "      <td>0.539994</td>\n",
              "      <td>0.086523</td>\n",
              "      <td>0.766136</td>\n",
              "      <td>0.650764</td>\n",
              "      <td>1.175500</td>\n",
              "      <td>828.138723</td>\n",
              "      <td>442.596699</td>\n",
              "      <td>29.372639</td>\n",
              "      <td>401.499264</td>\n",
              "      <td>53.505373</td>\n",
              "      <td>0.138572</td>\n",
              "      <td>0.140833</td>\n",
              "      <td>685.425781</td>\n",
              "      <td>27305.972464</td>\n",
              "    </tr>\n",
              "    <tr>\n",
              "      <th>min</th>\n",
              "      <td>1.000102e+06</td>\n",
              "      <td>7.500000e+04</td>\n",
              "      <td>0.000000</td>\n",
              "      <td>0.000000</td>\n",
              "      <td>290.000000</td>\n",
              "      <td>5.200000e+02</td>\n",
              "      <td>1.000000</td>\n",
              "      <td>0.000000</td>\n",
              "      <td>0.000000</td>\n",
              "      <td>1.000000</td>\n",
              "      <td>1.000000</td>\n",
              "      <td>290.000000</td>\n",
              "      <td>0.000000</td>\n",
              "      <td>1900.000000</td>\n",
              "      <td>0.000000</td>\n",
              "      <td>98001.000000</td>\n",
              "      <td>47.155900</td>\n",
              "      <td>-122.519000</td>\n",
              "      <td>399.000000</td>\n",
              "      <td>651.000000</td>\n",
              "    </tr>\n",
              "    <tr>\n",
              "      <th>25%</th>\n",
              "      <td>2.123049e+09</td>\n",
              "      <td>3.216125e+05</td>\n",
              "      <td>3.000000</td>\n",
              "      <td>1.750000</td>\n",
              "      <td>1425.500000</td>\n",
              "      <td>5.040000e+03</td>\n",
              "      <td>1.000000</td>\n",
              "      <td>0.000000</td>\n",
              "      <td>0.000000</td>\n",
              "      <td>3.000000</td>\n",
              "      <td>7.000000</td>\n",
              "      <td>1190.000000</td>\n",
              "      <td>0.000000</td>\n",
              "      <td>1951.000000</td>\n",
              "      <td>0.000000</td>\n",
              "      <td>98033.000000</td>\n",
              "      <td>47.470925</td>\n",
              "      <td>-122.328000</td>\n",
              "      <td>1490.000000</td>\n",
              "      <td>5100.000000</td>\n",
              "    </tr>\n",
              "    <tr>\n",
              "      <th>50%</th>\n",
              "      <td>3.904930e+09</td>\n",
              "      <td>4.500000e+05</td>\n",
              "      <td>3.000000</td>\n",
              "      <td>2.250000</td>\n",
              "      <td>1910.000000</td>\n",
              "      <td>7.619000e+03</td>\n",
              "      <td>1.500000</td>\n",
              "      <td>0.000000</td>\n",
              "      <td>0.000000</td>\n",
              "      <td>3.000000</td>\n",
              "      <td>7.000000</td>\n",
              "      <td>1560.000000</td>\n",
              "      <td>0.000000</td>\n",
              "      <td>1975.000000</td>\n",
              "      <td>0.000000</td>\n",
              "      <td>98065.000000</td>\n",
              "      <td>47.571800</td>\n",
              "      <td>-122.231000</td>\n",
              "      <td>1840.000000</td>\n",
              "      <td>7620.000000</td>\n",
              "    </tr>\n",
              "    <tr>\n",
              "      <th>75%</th>\n",
              "      <td>7.308900e+09</td>\n",
              "      <td>6.450000e+05</td>\n",
              "      <td>4.000000</td>\n",
              "      <td>2.500000</td>\n",
              "      <td>2550.000000</td>\n",
              "      <td>1.068875e+04</td>\n",
              "      <td>2.000000</td>\n",
              "      <td>0.000000</td>\n",
              "      <td>0.000000</td>\n",
              "      <td>4.000000</td>\n",
              "      <td>8.000000</td>\n",
              "      <td>2210.000000</td>\n",
              "      <td>560.000000</td>\n",
              "      <td>1997.000000</td>\n",
              "      <td>0.000000</td>\n",
              "      <td>98118.000000</td>\n",
              "      <td>47.678000</td>\n",
              "      <td>-122.125000</td>\n",
              "      <td>2360.000000</td>\n",
              "      <td>10083.000000</td>\n",
              "    </tr>\n",
              "    <tr>\n",
              "      <th>max</th>\n",
              "      <td>9.900000e+09</td>\n",
              "      <td>7.700000e+06</td>\n",
              "      <td>33.000000</td>\n",
              "      <td>8.000000</td>\n",
              "      <td>13540.000000</td>\n",
              "      <td>1.651359e+06</td>\n",
              "      <td>3.500000</td>\n",
              "      <td>1.000000</td>\n",
              "      <td>4.000000</td>\n",
              "      <td>5.000000</td>\n",
              "      <td>13.000000</td>\n",
              "      <td>9410.000000</td>\n",
              "      <td>4820.000000</td>\n",
              "      <td>2015.000000</td>\n",
              "      <td>2015.000000</td>\n",
              "      <td>98199.000000</td>\n",
              "      <td>47.777600</td>\n",
              "      <td>-121.315000</td>\n",
              "      <td>6210.000000</td>\n",
              "      <td>871200.000000</td>\n",
              "    </tr>\n",
              "  </tbody>\n",
              "</table>\n",
              "</div>"
            ],
            "text/plain": [
              "                 id         price  ...  sqft_living15     sqft_lot15\n",
              "count  2.161000e+04  2.161000e+04  ...   21610.000000   21610.000000\n",
              "mean   4.580161e+09  5.401789e+05  ...    1986.518695   12769.031976\n",
              "std    2.876547e+09  3.673876e+05  ...     685.425781   27305.972464\n",
              "min    1.000102e+06  7.500000e+04  ...     399.000000     651.000000\n",
              "25%    2.123049e+09  3.216125e+05  ...    1490.000000    5100.000000\n",
              "50%    3.904930e+09  4.500000e+05  ...    1840.000000    7620.000000\n",
              "75%    7.308900e+09  6.450000e+05  ...    2360.000000   10083.000000\n",
              "max    9.900000e+09  7.700000e+06  ...    6210.000000  871200.000000\n",
              "\n",
              "[8 rows x 20 columns]"
            ]
          },
          "metadata": {},
          "execution_count": 11
        }
      ]
    },
    {
      "cell_type": "code",
      "metadata": {
        "colab": {
          "base_uri": "https://localhost:8080/"
        },
        "id": "31Qxpw6dprby",
        "outputId": "3571e4e2-0f27-4949-b35b-e93e9c5f32ce"
      },
      "source": [
        "#Checking the datatypes of the columns\n",
        "house_df.dtypes"
      ],
      "execution_count": 12,
      "outputs": [
        {
          "output_type": "execute_result",
          "data": {
            "text/plain": [
              "id                 int64\n",
              "price            float64\n",
              "bedrooms           int64\n",
              "bathrooms        float64\n",
              "sqft_living        int64\n",
              "sqft_lot           int64\n",
              "floors           float64\n",
              "waterfront         int64\n",
              "view               int64\n",
              "condition          int64\n",
              "grade              int64\n",
              "sqft_above         int64\n",
              "sqft_basement      int64\n",
              "yr_built           int64\n",
              "yr_renovated       int64\n",
              "zipcode            int64\n",
              "lat              float64\n",
              "long             float64\n",
              "sqft_living15      int64\n",
              "sqft_lot15         int64\n",
              "dtype: object"
            ]
          },
          "metadata": {},
          "execution_count": 12
        }
      ]
    },
    {
      "cell_type": "markdown",
      "metadata": {
        "id": "wSqJFGJkqLN0"
      },
      "source": [
        "What we notice from this is that year built and year renovated are both integers so we change to datetime"
      ]
    },
    {
      "cell_type": "code",
      "metadata": {
        "id": "TzqdmVUGp51V"
      },
      "source": [
        "# converting year to datetime\n",
        "house_df['yr_built'] = pd.to_datetime(house_df['yr_built'])\n",
        "house_df['yr_renovated'] = pd.to_datetime(house_df['yr_renovated'])"
      ],
      "execution_count": 13,
      "outputs": []
    },
    {
      "cell_type": "code",
      "metadata": {
        "id": "eKaCR0MOv7iC"
      },
      "source": [
        "# Dropping irrelevant columns\n",
        "house_df.drop(columns=['id', 'lat', 'long', 'waterfront', 'view', 'yr_renovated', 'zipcode', 'yr_built'], axis=1, inplace=True)"
      ],
      "execution_count": 14,
      "outputs": []
    },
    {
      "cell_type": "code",
      "metadata": {
        "colab": {
          "base_uri": "https://localhost:8080/"
        },
        "id": "ZCXWvRbvcm6E",
        "outputId": "e4fb15a2-effa-4f29-ee2c-b2b8fcccf44b"
      },
      "source": [
        "#Checking the shape of the dataset after dropping the unnecessary columns\n",
        "house_df.shape"
      ],
      "execution_count": 15,
      "outputs": [
        {
          "output_type": "execute_result",
          "data": {
            "text/plain": [
              "(21610, 12)"
            ]
          },
          "metadata": {},
          "execution_count": 15
        }
      ]
    },
    {
      "cell_type": "markdown",
      "metadata": {
        "id": "EE1CxUKEt9ey"
      },
      "source": [
        "# Checking for Outliers"
      ]
    },
    {
      "cell_type": "code",
      "metadata": {
        "colab": {
          "base_uri": "https://localhost:8080/"
        },
        "id": "vO4E-05MwLLq",
        "outputId": "55621716-a547-444f-c9bd-08202beba893"
      },
      "source": [
        "# Checking for Outliers\n",
        "#\n",
        "\n",
        "Q1 = house_df.quantile(0.25)\n",
        "Q3 = house_df.quantile(0.75)\n",
        "IQR = Q3 - Q1\n",
        "print(IQR)"
      ],
      "execution_count": 16,
      "outputs": [
        {
          "output_type": "stream",
          "name": "stdout",
          "text": [
            "price            323387.50\n",
            "bedrooms              1.00\n",
            "bathrooms             0.75\n",
            "sqft_living        1124.50\n",
            "sqft_lot           5648.75\n",
            "floors                1.00\n",
            "condition             1.00\n",
            "grade                 1.00\n",
            "sqft_above         1020.00\n",
            "sqft_basement       560.00\n",
            "sqft_living15       870.00\n",
            "sqft_lot15         4983.00\n",
            "dtype: float64\n"
          ]
        }
      ]
    },
    {
      "cell_type": "markdown",
      "metadata": {
        "id": "qy0zf4RcxwOC"
      },
      "source": [
        "From this Interquantile range scores we notice some values are way above the expected range, so we plot boxplots to visualize them"
      ]
    },
    {
      "cell_type": "code",
      "metadata": {
        "colab": {
          "base_uri": "https://localhost:8080/",
          "height": 1000
        },
        "id": "J5dJMcyHt7iL",
        "outputId": "6a41adcf-24e3-441d-a765-882a76c0bd02"
      },
      "source": [
        "#Plotting boxplots to detect outliers in the various columns\n",
        "\n",
        "\n",
        "col_names = ['price','sqft_living','sqft_lot', 'sqft_lot15', 'sqft_living15', 'sqft_above', 'sqft_basement', 'sqft_lot15', 'sqft_living15']\n",
        "\n",
        "fig,ax = plt.subplots(len(col_names),figsize=(8,40))\n",
        "for i , col_val in enumerate(col_names):\n",
        "  sns.boxplot(y=house_df[col_val],ax=ax[i])\n",
        "  ax[i].set_title('Box plot - {}'.format(col_val), fontsize =10)\n",
        "  ax[i].set_xlabel(col_val,fontsize=10)\n",
        "plt.show()"
      ],
      "execution_count": 17,
      "outputs": [
        {
          "output_type": "display_data",
          "data": {
            "image/png": "[encoded data removed]",
            "text/plain": [
              "<Figure size 576x2880 with 9 Axes>"
            ]
          },
          "metadata": {
            "needs_background": "light"
          }
        }
      ]
    },
    {
      "cell_type": "markdown",
      "metadata": {
        "id": "Y7TsMMnoyJZb"
      },
      "source": [
        "We can now drop the outliers that are way outside our desired range"
      ]
    },
    {
      "cell_type": "code",
      "metadata": {
        "colab": {
          "base_uri": "https://localhost:8080/"
        },
        "id": "LJD5r0dNySTQ",
        "outputId": "04e63c34-929e-486e-eb4e-9a3fdd9ef8ba"
      },
      "source": [
        "# dealing with outliers\n",
        "\n",
        "# quantiles\n",
        "Q1 = house_df.quantile(0.25)\n",
        "Q3 = house_df.quantile(0.75)\n",
        "IQR = Q3 - Q1\n",
        "\n",
        "# Removing outliers based on the IQR range \n",
        "df = house_df[~((house_df < (Q1 - 1.5 * IQR)) | (house_df > (Q3 + 1.5 * IQR))).any(axis=1)]\n",
        "\n",
        "# Printing the shape of our new dataset\n",
        "print(df.shape)\n",
        "\n",
        "# Printing the shape of our old dataset\n",
        "print(house_df.shape)"
      ],
      "execution_count": 18,
      "outputs": [
        {
          "output_type": "stream",
          "name": "stdout",
          "text": [
            "(16612, 12)\n",
            "(21610, 12)\n"
          ]
        }
      ]
    },
    {
      "cell_type": "markdown",
      "metadata": {
        "id": "RQ7rqQP708oe"
      },
      "source": [
        "From that we notice that there are no longer any outliers"
      ]
    },
    {
      "cell_type": "markdown",
      "metadata": {
        "id": "cUBZsXJ21g-M"
      },
      "source": [
        "# **EXPLORATORY DATA ANALYSIS**"
      ]
    },
    {
      "cell_type": "markdown",
      "metadata": {
        "id": "1Ems1oSD1pfG"
      },
      "source": [
        "**UNIVARIATE ANALYSIS**"
      ]
    },
    {
      "cell_type": "code",
      "metadata": {
        "colab": {
          "base_uri": "https://localhost:8080/",
          "height": 314
        },
        "id": "6mf0Xl3O1oxZ",
        "outputId": "ebd2ae54-68ea-4bca-aea8-60a2424563ef"
      },
      "source": [
        "df.describe()"
      ],
      "execution_count": 19,
      "outputs": [
        {
          "output_type": "execute_result",
          "data": {
            "text/html": [
              "<div>\n",
              "<style scoped>\n",
              "    .dataframe tbody tr th:only-of-type {\n",
              "        vertical-align: middle;\n",
              "    }\n",
              "\n",
              "    .dataframe tbody tr th {\n",
              "        vertical-align: top;\n",
              "    }\n",
              "\n",
              "    .dataframe thead th {\n",
              "        text-align: right;\n",
              "    }\n",
              "</style>\n",
              "<table border=\"1\" class=\"dataframe\">\n",
              "  <thead>\n",
              "    <tr style=\"text-align: right;\">\n",
              "      <th></th>\n",
              "      <th>price</th>\n",
              "      <th>bedrooms</th>\n",
              "      <th>bathrooms</th>\n",
              "      <th>sqft_living</th>\n",
              "      <th>sqft_lot</th>\n",
              "      <th>floors</th>\n",
              "      <th>condition</th>\n",
              "      <th>grade</th>\n",
              "      <th>sqft_above</th>\n",
              "      <th>sqft_basement</th>\n",
              "      <th>sqft_living15</th>\n",
              "      <th>sqft_lot15</th>\n",
              "    </tr>\n",
              "  </thead>\n",
              "  <tbody>\n",
              "    <tr>\n",
              "      <th>count</th>\n",
              "      <td>1.661200e+04</td>\n",
              "      <td>16612.000000</td>\n",
              "      <td>16612.000000</td>\n",
              "      <td>16612.000000</td>\n",
              "      <td>16612.000000</td>\n",
              "      <td>16612.000000</td>\n",
              "      <td>16612.000000</td>\n",
              "      <td>16612.000000</td>\n",
              "      <td>16612.000000</td>\n",
              "      <td>16612.000000</td>\n",
              "      <td>16612.000000</td>\n",
              "      <td>16612.000000</td>\n",
              "    </tr>\n",
              "    <tr>\n",
              "      <th>mean</th>\n",
              "      <td>4.524053e+05</td>\n",
              "      <td>3.269083</td>\n",
              "      <td>1.984574</td>\n",
              "      <td>1838.827354</td>\n",
              "      <td>7054.684987</td>\n",
              "      <td>1.466079</td>\n",
              "      <td>3.417108</td>\n",
              "      <td>7.401637</td>\n",
              "      <td>1590.670178</td>\n",
              "      <td>248.157176</td>\n",
              "      <td>1815.761558</td>\n",
              "      <td>6932.756381</td>\n",
              "    </tr>\n",
              "    <tr>\n",
              "      <th>std</th>\n",
              "      <td>1.895564e+05</td>\n",
              "      <td>0.775242</td>\n",
              "      <td>0.649025</td>\n",
              "      <td>623.932141</td>\n",
              "      <td>3384.975688</td>\n",
              "      <td>0.544185</td>\n",
              "      <td>0.644826</td>\n",
              "      <td>0.811774</td>\n",
              "      <td>599.165058</td>\n",
              "      <td>366.895185</td>\n",
              "      <td>514.988225</td>\n",
              "      <td>3015.852296</td>\n",
              "    </tr>\n",
              "    <tr>\n",
              "      <th>min</th>\n",
              "      <td>8.200000e+04</td>\n",
              "      <td>2.000000</td>\n",
              "      <td>0.750000</td>\n",
              "      <td>560.000000</td>\n",
              "      <td>520.000000</td>\n",
              "      <td>1.000000</td>\n",
              "      <td>2.000000</td>\n",
              "      <td>6.000000</td>\n",
              "      <td>480.000000</td>\n",
              "      <td>0.000000</td>\n",
              "      <td>620.000000</td>\n",
              "      <td>651.000000</td>\n",
              "    </tr>\n",
              "    <tr>\n",
              "      <th>25%</th>\n",
              "      <td>3.055000e+05</td>\n",
              "      <td>3.000000</td>\n",
              "      <td>1.500000</td>\n",
              "      <td>1360.000000</td>\n",
              "      <td>4750.000000</td>\n",
              "      <td>1.000000</td>\n",
              "      <td>3.000000</td>\n",
              "      <td>7.000000</td>\n",
              "      <td>1150.000000</td>\n",
              "      <td>0.000000</td>\n",
              "      <td>1440.000000</td>\n",
              "      <td>4820.000000</td>\n",
              "    </tr>\n",
              "    <tr>\n",
              "      <th>50%</th>\n",
              "      <td>4.190000e+05</td>\n",
              "      <td>3.000000</td>\n",
              "      <td>2.000000</td>\n",
              "      <td>1770.000000</td>\n",
              "      <td>7029.500000</td>\n",
              "      <td>1.000000</td>\n",
              "      <td>3.000000</td>\n",
              "      <td>7.000000</td>\n",
              "      <td>1440.000000</td>\n",
              "      <td>0.000000</td>\n",
              "      <td>1720.000000</td>\n",
              "      <td>7169.000000</td>\n",
              "    </tr>\n",
              "    <tr>\n",
              "      <th>75%</th>\n",
              "      <td>5.641125e+05</td>\n",
              "      <td>4.000000</td>\n",
              "      <td>2.500000</td>\n",
              "      <td>2240.000000</td>\n",
              "      <td>9000.000000</td>\n",
              "      <td>2.000000</td>\n",
              "      <td>4.000000</td>\n",
              "      <td>8.000000</td>\n",
              "      <td>1920.000000</td>\n",
              "      <td>500.000000</td>\n",
              "      <td>2130.000000</td>\n",
              "      <td>8744.000000</td>\n",
              "    </tr>\n",
              "    <tr>\n",
              "      <th>max</th>\n",
              "      <td>1.130000e+06</td>\n",
              "      <td>5.000000</td>\n",
              "      <td>3.500000</td>\n",
              "      <td>4200.000000</td>\n",
              "      <td>19141.000000</td>\n",
              "      <td>3.500000</td>\n",
              "      <td>5.000000</td>\n",
              "      <td>9.000000</td>\n",
              "      <td>3740.000000</td>\n",
              "      <td>1400.000000</td>\n",
              "      <td>3640.000000</td>\n",
              "      <td>17550.000000</td>\n",
              "    </tr>\n",
              "  </tbody>\n",
              "</table>\n",
              "</div>"
            ],
            "text/plain": [
              "              price      bedrooms  ...  sqft_living15    sqft_lot15\n",
              "count  1.661200e+04  16612.000000  ...   16612.000000  16612.000000\n",
              "mean   4.524053e+05      3.269083  ...    1815.761558   6932.756381\n",
              "std    1.895564e+05      0.775242  ...     514.988225   3015.852296\n",
              "min    8.200000e+04      2.000000  ...     620.000000    651.000000\n",
              "25%    3.055000e+05      3.000000  ...    1440.000000   4820.000000\n",
              "50%    4.190000e+05      3.000000  ...    1720.000000   7169.000000\n",
              "75%    5.641125e+05      4.000000  ...    2130.000000   8744.000000\n",
              "max    1.130000e+06      5.000000  ...    3640.000000  17550.000000\n",
              "\n",
              "[8 rows x 12 columns]"
            ]
          },
          "metadata": {},
          "execution_count": 19
        }
      ]
    },
    {
      "cell_type": "markdown",
      "metadata": {
        "id": "V3gWw_Wn5Ri1"
      },
      "source": [
        "The above output describe the general descriptive statistics of the columns which include the means and standard deviation of each column."
      ]
    },
    {
      "cell_type": "markdown",
      "metadata": {
        "id": "H0fDMXTU6kZU"
      },
      "source": [
        "Below are the value counts of number of bedrooms, floors and bedrooms"
      ]
    },
    {
      "cell_type": "code",
      "metadata": {
        "colab": {
          "base_uri": "https://localhost:8080/",
          "height": 332
        },
        "id": "3k14Yzx66yY-",
        "outputId": "e0bb2406-4d2d-4d77-b7c6-52d78f6fcbab"
      },
      "source": [
        "plt.figure(figsize = (10,5))\n",
        "df['bedrooms'].value_counts().plot(kind = 'bar', color = 'green')"
      ],
      "execution_count": 20,
      "outputs": [
        {
          "output_type": "execute_result",
          "data": {
            "text/plain": [
              "<matplotlib.axes._subplots.AxesSubplot at 0x7fa463777a90>"
            ]
          },
          "metadata": {},
          "execution_count": 20
        },
        {
          "output_type": "display_data",
          "data": {
            "image/png": "[encoded data removed]",
            "text/plain": [
              "<Figure size 720x360 with 1 Axes>"
            ]
          },
          "metadata": {
            "needs_background": "light"
          }
        }
      ]
    },
    {
      "cell_type": "code",
      "metadata": {
        "colab": {
          "base_uri": "https://localhost:8080/",
          "height": 349
        },
        "id": "W4hfEVrr7u9V",
        "outputId": "5f42b673-bbad-4580-e969-42a7733bd412"
      },
      "source": [
        "plt.figure(figsize = (10,5))\n",
        "df['bathrooms'].value_counts().plot(kind = 'bar', color = 'Cyan')"
      ],
      "execution_count": 21,
      "outputs": [
        {
          "output_type": "execute_result",
          "data": {
            "text/plain": [
              "<matplotlib.axes._subplots.AxesSubplot at 0x7fa461ebf050>"
            ]
          },
          "metadata": {},
          "execution_count": 21
        },
        {
          "output_type": "display_data",
          "data": {
            "image/png": "[encoded data removed]",
            "text/plain": [
              "<Figure size 720x360 with 1 Axes>"
            ]
          },
          "metadata": {
            "needs_background": "light"
          }
        }
      ]
    },
    {
      "cell_type": "code",
      "metadata": {
        "colab": {
          "base_uri": "https://localhost:8080/",
          "height": 343
        },
        "id": "5ZQ1xM4y7v1N",
        "outputId": "f78a863d-c701-4c08-ffb3-ebdb48fa6238"
      },
      "source": [
        "plt.figure(figsize = (10,5))\n",
        "df['floors'].value_counts().plot(kind = 'bar', color = 'Chartreuse')"
      ],
      "execution_count": 22,
      "outputs": [
        {
          "output_type": "execute_result",
          "data": {
            "text/plain": [
              "<matplotlib.axes._subplots.AxesSubplot at 0x7fa461e66190>"
            ]
          },
          "metadata": {},
          "execution_count": 22
        },
        {
          "output_type": "display_data",
          "data": {
            "image/png": "[encoded data removed]",
            "text/plain": [
              "<Figure size 720x360 with 1 Axes>"
            ]
          },
          "metadata": {
            "needs_background": "light"
          }
        }
      ]
    },
    {
      "cell_type": "markdown",
      "metadata": {
        "id": "pCW5w15H8VrL"
      },
      "source": [
        "From the above count plot bars we notice the following:\n",
        "\n",
        "*   Most houses sold had 1 floor compared to the rest.\n",
        "*   Similarly the most houses sold previously had more than 2 bathrooms.\n",
        "\n",
        "*   And lastly, the most houses sold had 3 bedrooms.\n",
        "\n",
        "\n",
        "\n",
        "\n"
      ]
    },
    {
      "cell_type": "code",
      "metadata": {
        "colab": {
          "base_uri": "https://localhost:8080/",
          "height": 296
        },
        "id": "q2OaMqeW8UzF",
        "outputId": "edb1c672-e2e1-4141-cbfb-dc07950c1828"
      },
      "source": [
        "#Plotting histograms of individual columns to see their distribution\n",
        "#plotting  Histogram\n",
        "x = df['sqft_lot']\n",
        "num_bins = 10\n",
        "\n",
        "plt.hist(x, bins=10, histtype='bar', rwidth=0.9, color = 'DarkBlue')\n",
        "\n",
        "plt.xlabel(\"sqft_lot\")\n",
        "plt.ylabel(\"Count\")\n",
        "plt.title('Histogram of sqft_lot') \n",
        "plt.show()"
      ],
      "execution_count": 23,
      "outputs": [
        {
          "output_type": "display_data",
          "data": {
            "image/png": "[encoded data removed]",
            "text/plain": [
              "<Figure size 432x288 with 1 Axes>"
            ]
          },
          "metadata": {
            "needs_background": "light"
          }
        }
      ]
    },
    {
      "cell_type": "code",
      "metadata": {
        "colab": {
          "base_uri": "https://localhost:8080/",
          "height": 363
        },
        "id": "LvwotkI_-QC4",
        "outputId": "ea970efd-3d97-4950-a8aa-29ee8ee1f9d1"
      },
      "source": [
        "x = df['sqft_living15']\n",
        "num_bins = 10\n",
        "\n",
        "plt.hist(x, bins=10, histtype='bar', rwidth=0.9, color = 'DarkMagenta')\n",
        "\n",
        "plt.xlabel(\"sqft_living15\t\")\n",
        "plt.ylabel(\"Count\")\n",
        "plt.title('Histogram of sqft_living15\t') \n",
        "plt.show()"
      ],
      "execution_count": 24,
      "outputs": [
        {
          "output_type": "stream",
          "name": "stderr",
          "text": [
            "/usr/local/lib/python3.7/dist-packages/matplotlib/backends/backend_agg.py:214: RuntimeWarning: Glyph 9 missing from current font.\n",
            "  font.set_text(s, 0.0, flags=flags)\n",
            "/usr/local/lib/python3.7/dist-packages/matplotlib/backends/backend_agg.py:183: RuntimeWarning: Glyph 9 missing from current font.\n",
            "  font.set_text(s, 0, flags=flags)\n"
          ]
        },
        {
          "output_type": "display_data",
          "data": {
            "image/png": "[encoded data removed]",
            "text/plain": [
              "<Figure size 432x288 with 1 Axes>"
            ]
          },
          "metadata": {
            "needs_background": "light"
          }
        }
      ]
    },
    {
      "cell_type": "code",
      "metadata": {
        "colab": {
          "base_uri": "https://localhost:8080/",
          "height": 296
        },
        "id": "hQWO7u4R-5-5",
        "outputId": "0d96e19a-034d-4542-d08d-6573bef0b189"
      },
      "source": [
        "x = df['sqft_above']\n",
        "num_bins = 10\n",
        "\n",
        "plt.hist(x, bins=10, histtype='bar', rwidth=0.9, color = 'Olive')\n",
        "\n",
        "plt.xlabel(\"sqft_above\")\n",
        "plt.ylabel(\"Count\")\n",
        "plt.title('Histogram of sqft_above') \n",
        "plt.show()"
      ],
      "execution_count": 25,
      "outputs": [
        {
          "output_type": "display_data",
          "data": {
            "image/png": "[encoded data removed]",
            "text/plain": [
              "<Figure size 432x288 with 1 Axes>"
            ]
          },
          "metadata": {
            "needs_background": "light"
          }
        }
      ]
    },
    {
      "cell_type": "markdown",
      "metadata": {
        "id": "I6_13Mbk_E3k"
      },
      "source": [
        "From the above histograms we note the follwing:\n",
        "\n",
        "*   Most sold houses had a square lot of 5000 to 10000 meters square\n",
        "*   Most sold houses had a square living of between 1200 and 2000 meters. \n",
        "\n",
        "*   most houses sold before have squarefeet of beween 1000 and 1500 meters\n",
        "*   List item\n",
        "\n",
        "\n",
        "\n"
      ]
    },
    {
      "cell_type": "markdown",
      "metadata": {
        "id": "xArKPTfi_2BY"
      },
      "source": [
        "**Bivariate Analysis**"
      ]
    },
    {
      "cell_type": "code",
      "metadata": {
        "colab": {
          "base_uri": "https://localhost:8080/",
          "height": 455
        },
        "id": "uilbTUocBsOc",
        "outputId": "f62c2fb7-f5a4-4ce5-f432-1d1ac4c448c6"
      },
      "source": [
        "# plotting a stacked bar graph of number of bedrooms against various features\n",
        "\n",
        "x= df[['bedrooms','price','sqft_living','sqft_lot', 'sqft_above']]\n",
        "y= x.set_index('bedrooms')\n",
        "z=y.groupby('bedrooms').count()\n",
        "\n",
        "\n",
        "z.plot.bar(stacked=True, figsize = [10,7])"
      ],
      "execution_count": 26,
      "outputs": [
        {
          "output_type": "execute_result",
          "data": {
            "text/plain": [
              "<matplotlib.axes._subplots.AxesSubplot at 0x7fa461c06390>"
            ]
          },
          "metadata": {},
          "execution_count": 26
        },
        {
          "output_type": "display_data",
          "data": {
            "image/png": "[encoded data removed]",
            "text/plain": [
              "<Figure size 720x504 with 1 Axes>"
            ]
          },
          "metadata": {
            "needs_background": "light"
          }
        }
      ]
    },
    {
      "cell_type": "markdown",
      "metadata": {
        "id": "hVzIOyLJCVfS"
      },
      "source": [
        "From this stacked barchsrt we notice that 3 bedrooms have the largest accumulation of features which also infers to the fact that it is the most preferred type of house."
      ]
    },
    {
      "cell_type": "code",
      "metadata": {
        "colab": {
          "base_uri": "https://localhost:8080/",
          "height": 659
        },
        "id": "VZ9znPprCpg6",
        "outputId": "9075b5e8-55f0-40fd-dd02-c07e5ca264fb"
      },
      "source": [
        "#Plotting a heat map to show correlation between the different variables\n",
        "plt.figure(figsize=(14,10))\n",
        "sns.heatmap(df.corr(),annot=True,cmap=\"Reds\",fmt=\".2f\");\n",
        "plt.show()"
      ],
      "execution_count": 27,
      "outputs": [
        {
          "output_type": "display_data",
          "data": {
            "image/png": "[encoded data removed]",
            "text/plain": [
              "<Figure size 1008x720 with 2 Axes>"
            ]
          },
          "metadata": {
            "needs_background": "light"
          }
        }
      ]
    },
    {
      "cell_type": "markdown",
      "metadata": {
        "id": "33bsCQsfDQry"
      },
      "source": [
        "From the correlation we can note that:\n",
        "\n",
        "\n",
        "*   There is a very high correlation between squarefeet living and squarefeet above.\n",
        "*   Similarly there is a moderate correlation between bathrooms and squarefeet 15.\n",
        "\n",
        "*   There is a strong correlation between squarefeet above above and the number of floors.\n",
        "*   Also there is a high correlation between number of bathrooms and grade. \n",
        "\n",
        "\n",
        "\n",
        "\n"
      ]
    },
    {
      "cell_type": "markdown",
      "metadata": {
        "id": "SsYiVoxFuIjp"
      },
      "source": [
        "# **Multivarite Analysis**"
      ]
    },
    {
      "cell_type": "markdown",
      "metadata": {
        "id": "wnrgF_JPSWlO"
      },
      "source": [
        "We are going to perform dimensionality reduction technique using Linear dicriminant analysis(LDA) since our case is a supervised learning problem. In that we have a target column in which it is The price of the house."
      ]
    },
    {
      "cell_type": "code",
      "metadata": {
        "colab": {
          "base_uri": "https://localhost:8080/",
          "height": 386
        },
        "id": "sX6ECMTmuOeA",
        "outputId": "dcd01fa5-77ab-46b9-a660-7a74cfc5a345"
      },
      "source": [
        "# Separating our target label from the other features\n",
        "feat= df.drop(['price'], axis= 1)\n",
        "target = df['price']\n",
        "\n",
        "# Subject our features to LDA model\n",
        "\n",
        "# Import Linear Discriminant Analysis method from sklearn library\n",
        "from sklearn.discriminant_analysis import LinearDiscriminantAnalysis as LDA\n",
        "\n",
        "# Create an instance of LDA\n",
        "lda = LDA()\n",
        "\n",
        "lda_= lda.fit(feat, target)\n",
        "lda_feat = lda_.transform(feat)\n",
        "\n",
        "# Display the coefficients of the reducted columns\n",
        "lda_.coef_\n",
        "\n",
        "# Since the coefficients are in an array, we need to create a dataframe so \n",
        "#that we can extract the name of the columns\n",
        "\n",
        "f_imp = pd.DataFrame(index=feat.columns.values, data=lda_.coef_[0].T)\n",
        "f_imp.sort_values(0, ascending=False)"
      ],
      "execution_count": 102,
      "outputs": [
        {
          "output_type": "execute_result",
          "data": {
            "text/html": [
              "<div>\n",
              "<style scoped>\n",
              "    .dataframe tbody tr th:only-of-type {\n",
              "        vertical-align: middle;\n",
              "    }\n",
              "\n",
              "    .dataframe tbody tr th {\n",
              "        vertical-align: top;\n",
              "    }\n",
              "\n",
              "    .dataframe thead th {\n",
              "        text-align: right;\n",
              "    }\n",
              "</style>\n",
              "<table border=\"1\" class=\"dataframe\">\n",
              "  <thead>\n",
              "    <tr style=\"text-align: right;\">\n",
              "      <th></th>\n",
              "      <th>0</th>\n",
              "    </tr>\n",
              "  </thead>\n",
              "  <tbody>\n",
              "    <tr>\n",
              "      <th>floors</th>\n",
              "      <td>1.522054</td>\n",
              "    </tr>\n",
              "    <tr>\n",
              "      <th>bedrooms</th>\n",
              "      <td>1.096865</td>\n",
              "    </tr>\n",
              "    <tr>\n",
              "      <th>sqft_lot15</th>\n",
              "      <td>0.001114</td>\n",
              "    </tr>\n",
              "    <tr>\n",
              "      <th>sqft_lot</th>\n",
              "      <td>-0.000203</td>\n",
              "    </tr>\n",
              "    <tr>\n",
              "      <th>sqft_above</th>\n",
              "      <td>-0.001119</td>\n",
              "    </tr>\n",
              "    <tr>\n",
              "      <th>sqft_basement</th>\n",
              "      <td>-0.001805</td>\n",
              "    </tr>\n",
              "    <tr>\n",
              "      <th>sqft_living</th>\n",
              "      <td>-0.002009</td>\n",
              "    </tr>\n",
              "    <tr>\n",
              "      <th>sqft_living15</th>\n",
              "      <td>-0.002533</td>\n",
              "    </tr>\n",
              "    <tr>\n",
              "      <th>bathrooms</th>\n",
              "      <td>-0.410453</td>\n",
              "    </tr>\n",
              "    <tr>\n",
              "      <th>condition</th>\n",
              "      <td>-2.483094</td>\n",
              "    </tr>\n",
              "    <tr>\n",
              "      <th>grade</th>\n",
              "      <td>-2.638119</td>\n",
              "    </tr>\n",
              "  </tbody>\n",
              "</table>\n",
              "</div>"
            ],
            "text/plain": [
              "                      0\n",
              "floors         1.522054\n",
              "bedrooms       1.096865\n",
              "sqft_lot15     0.001114\n",
              "sqft_lot      -0.000203\n",
              "sqft_above    -0.001119\n",
              "sqft_basement -0.001805\n",
              "sqft_living   -0.002009\n",
              "sqft_living15 -0.002533\n",
              "bathrooms     -0.410453\n",
              "condition     -2.483094\n",
              "grade         -2.638119"
            ]
          },
          "metadata": {},
          "execution_count": 102
        }
      ]
    },
    {
      "cell_type": "markdown",
      "metadata": {
        "id": "LQZfc9R0vbJe"
      },
      "source": [
        "From our linear dicriminant analysis we notice that the most important features that help in price of a house are, number of floors, number of bedrooms, square feet lot15, square feet lot, square feet above, square feet basement and square feet basement"
      ]
    },
    {
      "cell_type": "markdown",
      "metadata": {
        "id": "K-OvdW7hS5wK"
      },
      "source": [
        "We are going to create a datframe with the features with the best scores from our reduction techniques."
      ]
    },
    {
      "cell_type": "code",
      "metadata": {
        "colab": {
          "base_uri": "https://localhost:8080/",
          "height": 203
        },
        "id": "FMI-bPUAwWy3",
        "outputId": "651686f4-ed6e-4944-f5d6-06834cc18175"
      },
      "source": [
        "#Dropping the least effective features then compare with when we have all features.\n",
        "lda_best = df.drop(['bathrooms', 'condition', 'grade', 'sqft_living15'], axis = 1)\n",
        "\n",
        "#Viewing the remaining columns\n",
        "lda_best.head()"
      ],
      "execution_count": 105,
      "outputs": [
        {
          "output_type": "execute_result",
          "data": {
            "text/html": [
              "<div>\n",
              "<style scoped>\n",
              "    .dataframe tbody tr th:only-of-type {\n",
              "        vertical-align: middle;\n",
              "    }\n",
              "\n",
              "    .dataframe tbody tr th {\n",
              "        vertical-align: top;\n",
              "    }\n",
              "\n",
              "    .dataframe thead th {\n",
              "        text-align: right;\n",
              "    }\n",
              "</style>\n",
              "<table border=\"1\" class=\"dataframe\">\n",
              "  <thead>\n",
              "    <tr style=\"text-align: right;\">\n",
              "      <th></th>\n",
              "      <th>price</th>\n",
              "      <th>bedrooms</th>\n",
              "      <th>sqft_living</th>\n",
              "      <th>sqft_lot</th>\n",
              "      <th>floors</th>\n",
              "      <th>sqft_above</th>\n",
              "      <th>sqft_basement</th>\n",
              "      <th>sqft_lot15</th>\n",
              "    </tr>\n",
              "  </thead>\n",
              "  <tbody>\n",
              "    <tr>\n",
              "      <th>0</th>\n",
              "      <td>221900.0</td>\n",
              "      <td>3</td>\n",
              "      <td>1180</td>\n",
              "      <td>5650</td>\n",
              "      <td>1.0</td>\n",
              "      <td>1180</td>\n",
              "      <td>0</td>\n",
              "      <td>5650</td>\n",
              "    </tr>\n",
              "    <tr>\n",
              "      <th>1</th>\n",
              "      <td>538000.0</td>\n",
              "      <td>3</td>\n",
              "      <td>2570</td>\n",
              "      <td>7242</td>\n",
              "      <td>2.0</td>\n",
              "      <td>2170</td>\n",
              "      <td>400</td>\n",
              "      <td>7639</td>\n",
              "    </tr>\n",
              "    <tr>\n",
              "      <th>2</th>\n",
              "      <td>180000.0</td>\n",
              "      <td>2</td>\n",
              "      <td>770</td>\n",
              "      <td>10000</td>\n",
              "      <td>1.0</td>\n",
              "      <td>770</td>\n",
              "      <td>0</td>\n",
              "      <td>8062</td>\n",
              "    </tr>\n",
              "    <tr>\n",
              "      <th>3</th>\n",
              "      <td>604000.0</td>\n",
              "      <td>4</td>\n",
              "      <td>1960</td>\n",
              "      <td>5000</td>\n",
              "      <td>1.0</td>\n",
              "      <td>1050</td>\n",
              "      <td>910</td>\n",
              "      <td>5000</td>\n",
              "    </tr>\n",
              "    <tr>\n",
              "      <th>4</th>\n",
              "      <td>510000.0</td>\n",
              "      <td>3</td>\n",
              "      <td>1680</td>\n",
              "      <td>8080</td>\n",
              "      <td>1.0</td>\n",
              "      <td>1680</td>\n",
              "      <td>0</td>\n",
              "      <td>7503</td>\n",
              "    </tr>\n",
              "  </tbody>\n",
              "</table>\n",
              "</div>"
            ],
            "text/plain": [
              "      price  bedrooms  sqft_living  ...  sqft_above  sqft_basement  sqft_lot15\n",
              "0  221900.0         3         1180  ...        1180              0        5650\n",
              "1  538000.0         3         2570  ...        2170            400        7639\n",
              "2  180000.0         2          770  ...         770              0        8062\n",
              "3  604000.0         4         1960  ...        1050            910        5000\n",
              "4  510000.0         3         1680  ...        1680              0        7503\n",
              "\n",
              "[5 rows x 8 columns]"
            ]
          },
          "metadata": {},
          "execution_count": 105
        }
      ]
    },
    {
      "cell_type": "markdown",
      "metadata": {
        "id": "7zSSPrE8TIvq"
      },
      "source": [
        "# **REGRESSION ANALYSIS**"
      ]
    },
    {
      "cell_type": "markdown",
      "metadata": {
        "id": "pR7d0L1sTUGO"
      },
      "source": [
        "Since we are trying to build a linear model we first state its assumptions and the resulting plots when they are violated. \n",
        "\n",
        "1.   There should be a linear and additive relationship between dependent also called response variable with the independent(predictor) variable.\n",
        "2.   There should be no correlation the residuals (error) terms. Absence of this phenomenon is called Autocorrelation.\n",
        "\n",
        "3.   there should be correlation between the independent variables, absence of this is called multicollinearity.\n",
        "4.   The error terms should have constant variance this is called,homoskedasticity. The presence of non constant variance is heteroskedasticity.\n",
        "\n",
        "5.   The error term must be normally distributed.\n",
        "\n",
        "We will first begin by checking for multicollinearity and linearity then check the rest after getting our model.\n",
        "\n",
        "\n",
        "\n",
        "\n",
        "\n",
        "\n"
      ]
    },
    {
      "cell_type": "markdown",
      "metadata": {
        "id": "K4njMh8rWR_3"
      },
      "source": [
        "**Multicollinearity**"
      ]
    },
    {
      "cell_type": "code",
      "metadata": {
        "id": "HUPkXkY4WlNu"
      },
      "source": [
        "#picking the numerical columns to check for multicollinearity\n",
        "num_col = df[['bedrooms', 'bathrooms', 'sqft_living', 'sqft_lot', 'floors', 'sqft_above', 'sqft_basement', 'sqft_living15', 'sqft_lot15']]"
      ],
      "execution_count": 29,
      "outputs": []
    },
    {
      "cell_type": "code",
      "metadata": {
        "colab": {
          "base_uri": "https://localhost:8080/",
          "height": 596
        },
        "id": "BX61u6etXinx",
        "outputId": "42c0d6f3-0bbf-4303-b03e-e053a4b1963b"
      },
      "source": [
        "#Using correlation heatmap\n",
        "#Plotting a heat map to show correlation between the different variables\n",
        "plt.figure(figsize=(14,10))\n",
        "sns.heatmap(num_col.corr(),annot=True,cmap=\"Reds\",fmt=\".2f\");\n",
        "plt.show()"
      ],
      "execution_count": 30,
      "outputs": [
        {
          "output_type": "display_data",
          "data": {
            "image/png": "[encoded data removed]",
            "text/plain": [
              "<Figure size 1008x720 with 2 Axes>"
            ]
          },
          "metadata": {
            "needs_background": "light"
          }
        }
      ]
    },
    {
      "cell_type": "markdown",
      "metadata": {
        "id": "mD4t0otoYI1T"
      },
      "source": [
        "From this we note that there is a very high multicollinearity among some variables, we can also check their VIF scores to confirm the same."
      ]
    },
    {
      "cell_type": "code",
      "metadata": {
        "colab": {
          "base_uri": "https://localhost:8080/"
        },
        "id": "yz1Jsh5EYcYp",
        "outputId": "e730ca63-6fc2-4ab9-da58-e1d5647b49e9"
      },
      "source": [
        "from statsmodels.stats.outliers_influence import variance_inflation_factor\n",
        "  \n",
        "# VIF dataframe\n",
        "vif_data = pd.DataFrame()\n",
        "vif_data[\"feature\"] = num_col.columns\n",
        "  \n",
        "# calculating VIF for each feature\n",
        "vif_data[\"VIF\"] = [variance_inflation_factor(num_col.values, i)\n",
        "                          for i in range(len(num_col.columns))]\n",
        "  \n",
        "print(vif_data)"
      ],
      "execution_count": null,
      "outputs": [
        {
          "output_type": "stream",
          "name": "stderr",
          "text": [
            "/usr/local/lib/python3.7/dist-packages/statsmodels/tools/_testing.py:19: FutureWarning: pandas.util.testing is deprecated. Use the functions in the public API at pandas.testing instead.\n",
            "  import pandas.util.testing as tm\n",
            "/usr/local/lib/python3.7/dist-packages/statsmodels/stats/outliers_influence.py:185: RuntimeWarning: divide by zero encountered in double_scalars\n",
            "  vif = 1. / (1. - r_squared_i)\n"
          ]
        },
        {
          "output_type": "stream",
          "name": "stdout",
          "text": [
            "         feature        VIF\n",
            "0       bedrooms  23.809611\n",
            "1      bathrooms  24.365777\n",
            "2    sqft_living        inf\n",
            "3       sqft_lot  24.000967\n",
            "4         floors  14.804896\n",
            "5     sqft_above        inf\n",
            "6  sqft_basement        inf\n",
            "7  sqft_living15  27.238252\n",
            "8     sqft_lot15  27.535616\n"
          ]
        }
      ]
    },
    {
      "cell_type": "markdown",
      "metadata": {
        "id": "KZZpZ5CwYwvG"
      },
      "source": [
        "similarly we the same problem we can try removing a few corelated columns to check is perfomance. The VIF scores are very high meaning they are severely correlated.\n",
        "\n",
        "By trying to remove the correlated values we end up with only two independent variables , we will work with then then use other regression techniques that can tolarate multicollinearity."
      ]
    },
    {
      "cell_type": "markdown",
      "metadata": {
        "id": "BfgYpMICTVoL"
      },
      "source": [
        "As of the assumptions of the Ordinary Least squares method, we are going to check them after creating our model."
      ]
    },
    {
      "cell_type": "markdown",
      "metadata": {
        "id": "8ycu3W1YfciS"
      },
      "source": [
        "**A) Multiple Linear Regression**"
      ]
    },
    {
      "cell_type": "markdown",
      "metadata": {
        "id": "YUPRnXAcUysN"
      },
      "source": [
        "# 1) Using all the feature sets"
      ]
    },
    {
      "cell_type": "markdown",
      "metadata": {
        "id": "k_xQh64mgY-p"
      },
      "source": [
        "Below we are separating our target variable from our feature set."
      ]
    },
    {
      "cell_type": "code",
      "metadata": {
        "id": "iVuKqD0Vfhx2"
      },
      "source": [
        "X1 = df.drop([\"price\"], axis = 1)\n",
        "y1 = df['price']"
      ],
      "execution_count": 134,
      "outputs": []
    },
    {
      "cell_type": "markdown",
      "metadata": {
        "id": "RIjOsvamgOAP"
      },
      "source": [
        "Scaling our feature so as to avoid large dicrepancies"
      ]
    },
    {
      "cell_type": "code",
      "metadata": {
        "id": "NaMO5PXPgImh"
      },
      "source": [
        "from sklearn.preprocessing import StandardScaler\n",
        "\n",
        "# Scaling data \n",
        "#\n",
        "scaler = StandardScaler()\n",
        "scaler.fit(X1)\n",
        "X1 = scaler.transform(X1)"
      ],
      "execution_count": 135,
      "outputs": []
    },
    {
      "cell_type": "code",
      "metadata": {
        "id": "jvz66qXzgxA7"
      },
      "source": [
        "#Splitting the dataset into test and train sets\n",
        "from sklearn.model_selection import train_test_split\n",
        "\n",
        "# Use 20% of the data as test\n",
        "# The rest will be our training set\n",
        "X1_train, X1_test, y1_train, y1_test = train_test_split(X1, y1, test_size=0.2, random_state=0)\n"
      ],
      "execution_count": 136,
      "outputs": []
    },
    {
      "cell_type": "code",
      "metadata": {
        "colab": {
          "base_uri": "https://localhost:8080/"
        },
        "id": "wfDr0do3hK6A",
        "outputId": "37c8a9ae-2b32-4cb0-a656-036cf9a803e8"
      },
      "source": [
        "#Fitting the linear regression into the model\n",
        "from sklearn.linear_model import LinearRegression\n",
        "\n",
        "regressor = LinearRegression()\n",
        "\n",
        "regressor.fit(X1_train, y1_train)\n",
        "\n",
        "#display the intercept / bias\n",
        "print(regressor.intercept_)\n",
        "\n",
        "#display the coefficient\n",
        "print(regressor.coef_)"
      ],
      "execution_count": 138,
      "outputs": [
        {
          "output_type": "stream",
          "name": "stdout",
          "text": [
            "452215.2963080063\n",
            "[-9.54686634e+03 -2.65451698e+04  9.49566425e+16 -1.15637458e+04\n",
            " -6.82205546e+02  3.13918353e+04  6.94296400e+04 -9.11873238e+16\n",
            " -5.58380192e+16  3.23744912e+04 -2.84663094e+04]\n"
          ]
        }
      ]
    },
    {
      "cell_type": "markdown",
      "metadata": {
        "id": "Gmu5dl8phiR0"
      },
      "source": [
        "From this we have its intercept and its coefficients."
      ]
    },
    {
      "cell_type": "code",
      "metadata": {
        "id": "pKZxaV0kiATX",
        "colab": {
          "base_uri": "https://localhost:8080/"
        },
        "outputId": "52c0ccaf-7545-4e26-87d6-9d071d767eba"
      },
      "source": [
        "y1_pred = regressor.predict(X1_test)\n",
        "\n",
        "#Equating our r^2 accuracy score so that we will compare with when using other techniques\n",
        "Multiple_linear_R2 = j = r2_score(y1_test, y1_pred)\n",
        "print(\"The R2 score for the multiple linear regression model is:\", Multiple_linear_R2)"
      ],
      "execution_count": 139,
      "outputs": [
        {
          "output_type": "stream",
          "name": "stdout",
          "text": [
            "The R2 score for the multiple linear regression model is: 0.43321846497285055\n"
          ]
        }
      ]
    },
    {
      "cell_type": "markdown",
      "metadata": {
        "id": "pJ0CXdijkBsJ"
      },
      "source": [
        "Looking at our accuracy metrics using different techniques we find the following:"
      ]
    },
    {
      "cell_type": "code",
      "metadata": {
        "colab": {
          "base_uri": "https://localhost:8080/"
        },
        "id": "9SOrWJiMhpLg",
        "outputId": "2f2a2fda-d893-47bc-f320-3ee24175336e"
      },
      "source": [
        "from sklearn.metrics import mean_absolute_error\n",
        "print(\"MAE\",mean_absolute_error(y1_test,y1_pred))\n",
        "\n",
        "from sklearn.metrics import mean_squared_error\n",
        "print(\"MSE\",mean_squared_error(y1_test,y1_pred))\n",
        "\n",
        "print(\"RMSE\",np.sqrt(mean_squared_error(y1_test,y1_pred)))\n",
        "\n",
        "print(\"RMSLE\",np.log(np.sqrt(mean_squared_error(y1_test,y1_pred))))\n",
        "\n",
        "from sklearn.metrics import r2_score\n",
        "r2 = r2_score(y1_test,y1_pred)\n",
        "print(r2)"
      ],
      "execution_count": 38,
      "outputs": [
        {
          "output_type": "stream",
          "name": "stdout",
          "text": [
            "MAE 111782.4211548833\n",
            "MSE 20404561284.67887\n",
            "RMSE 142844.5353686268\n",
            "RMSLE 11.869512152594874\n",
            "0.43321846497285055\n"
          ]
        }
      ]
    },
    {
      "cell_type": "markdown",
      "metadata": {
        "id": "LaDAzmuBmVHN"
      },
      "source": [
        "From our accuracy metrics we can say that we have 43 percent accuracy and since it doesnt meet our treshhold for metrics of success we try Reducing the previously seen heavily correlarated features."
      ]
    },
    {
      "cell_type": "markdown",
      "metadata": {
        "id": "nxz0t8T2T_VP"
      },
      "source": [
        "# 2)  Using LDA best Coefficients to create the model"
      ]
    },
    {
      "cell_type": "code",
      "metadata": {
        "colab": {
          "base_uri": "https://localhost:8080/"
        },
        "id": "V9Zn010fyhYb",
        "outputId": "82dbf2f6-446a-49bd-8c54-8c5222516078"
      },
      "source": [
        "X = lda_best.drop([\"price\"], axis = 1)\n",
        "y = lda_best['price']\n",
        "\n",
        "from sklearn.preprocessing import StandardScaler\n",
        "\n",
        "# Scaling data \n",
        "#\n",
        "scaler = StandardScaler()\n",
        "scaler.fit(X)\n",
        "X = scaler.transform(X)\n",
        "\n",
        "#Splitting the dataset into test and train sets\n",
        "from sklearn.model_selection import train_test_split\n",
        "\n",
        "# Use 20% of the data as test\n",
        "# The rest will be our training set\n",
        "X_train, X_test, y_train, y_test = train_test_split(X, y, test_size=0.2, random_state=0)\n",
        "\n",
        "#Fitting the linear regression into the model\n",
        "from sklearn.linear_model import LinearRegression\n",
        "\n",
        "regressor = LinearRegression()\n",
        "\n",
        "regressor.fit(X_train, y_train)\n",
        "\n",
        "#display the intercept / bias\n",
        "print(regressor.intercept_)\n",
        "\n",
        "#display the coefficient\n",
        "print(regressor.coef_)\n",
        "\n",
        "y_pred = regressor.predict(X_test)\n",
        "\n",
        "Multiple_linear_lda_features_R2 = k = r2_score(y_test, y_pred)\n",
        "print(\"The R2 score for the multiple linear regression model with 7 features is:\", Multiple_linear_R2)\n",
        "\n",
        "#getting the accuracy score using different metrics\n",
        "from sklearn.metrics import mean_absolute_error\n",
        "print(\"MAE\",mean_absolute_error(y_test,y_pred))\n",
        "\n",
        "from sklearn.metrics import mean_squared_error\n",
        "print(\"MSE\",mean_squared_error(y_test,y_pred))\n",
        "\n",
        "print(\"RMSE\",np.sqrt(mean_squared_error(y_test,y_pred)))\n",
        "\n",
        "print(\"RMSLE\",np.log(np.sqrt(mean_squared_error(y_test,y_pred))))\n",
        "\n",
        "from sklearn.metrics import r2_score\n",
        "r2 = r2_score(y_test,y_pred)\n",
        "print(r2)"
      ],
      "execution_count": 132,
      "outputs": [
        {
          "output_type": "stream",
          "name": "stdout",
          "text": [
            "452574.9176750458\n",
            "[-1.94430874e+04  5.69091646e+17 -1.82080000e+04 -1.36000000e+03\n",
            " -5.46501465e+17 -3.34646944e+17 -1.59520000e+04]\n",
            "The R2 score for the multiple linear regression model with 7 features is: 0.43321846497285055\n",
            "MAE 124249.15583583711\n",
            "MSE 24739682091.971985\n",
            "RMSE 157288.5313427905\n",
            "RMSLE 11.96583717693374\n",
            "0.31280095677919684\n"
          ]
        }
      ]
    },
    {
      "cell_type": "markdown",
      "metadata": {
        "id": "4suyeHuPVZZR"
      },
      "source": [
        "# 3) Removing the the heavily correlated features."
      ]
    },
    {
      "cell_type": "code",
      "metadata": {
        "id": "QAH4UmCRVh0R"
      },
      "source": [
        "# Separating the feature and target variables\n",
        "X11 = df[['bedrooms', 'bathrooms', 'sqft_living', 'floors',\n",
        "       'condition', 'grade', 'sqft_above', 'sqft_basement']]\n",
        "y11 = df['price']"
      ],
      "execution_count": 140,
      "outputs": []
    },
    {
      "cell_type": "code",
      "metadata": {
        "id": "8Jp84pytWweY"
      },
      "source": [
        "from sklearn.preprocessing import StandardScaler\n",
        "\n",
        "# Scaling data \n",
        "#\n",
        "scaler = StandardScaler()\n",
        "scaler.fit(X11)\n",
        "X11 = scaler.transform(X11)"
      ],
      "execution_count": 141,
      "outputs": []
    },
    {
      "cell_type": "code",
      "metadata": {
        "id": "shreSEn5W49M"
      },
      "source": [
        "#Splitting the dataset into test and train sets\n",
        "from sklearn.model_selection import train_test_split\n",
        "\n",
        "# Use 20% of the data as test\n",
        "# The rest will be our training set\n",
        "X11_train, X11_test, y11_train, y11_test = train_test_split(X11, y11, test_size=0.2, random_state=0)"
      ],
      "execution_count": 142,
      "outputs": []
    },
    {
      "cell_type": "code",
      "metadata": {
        "colab": {
          "base_uri": "https://localhost:8080/"
        },
        "id": "OyhyPZ_lXDB6",
        "outputId": "e577284f-600e-48f9-97f8-fa14d97e585c"
      },
      "source": [
        "#Fitting the linear regression into the model\n",
        "from sklearn.linear_model import LinearRegression\n",
        "\n",
        "regressor = LinearRegression()\n",
        "\n",
        "regressor.fit(X11_train, y11_train)\n",
        "\n",
        "#display the intercept / bias\n",
        "print(regressor.intercept_)\n",
        "\n",
        "#display the coefficient\n",
        "print(regressor.coef_)"
      ],
      "execution_count": 143,
      "outputs": [
        {
          "output_type": "stream",
          "name": "stdout",
          "text": [
            "452400.6434153125\n",
            "[-1.46777233e+04 -2.40854016e+04  1.19915272e+17  1.77261596e+04\n",
            "  2.86458592e+04  7.66394843e+04 -1.15155217e+17 -7.05146171e+16]\n"
          ]
        }
      ]
    },
    {
      "cell_type": "code",
      "metadata": {
        "colab": {
          "base_uri": "https://localhost:8080/"
        },
        "id": "qE_6VbULXQ1_",
        "outputId": "77c87251-ed9e-421a-8513-50f645f1615a"
      },
      "source": [
        "y11_pred = regressor.predict(X11_test)\n",
        "\n",
        "Multiple_linear_drop_three_R2 = l = r2_score(y11_test, y11_pred)\n",
        "print(\"The R2 score for the multiple linear regression modelwith dropped features is:\", Multiple_linear_R2)"
      ],
      "execution_count": 144,
      "outputs": [
        {
          "output_type": "stream",
          "name": "stdout",
          "text": [
            "The R2 score for the multiple linear regression modelwith dropped features is: 0.43321846497285055\n"
          ]
        }
      ]
    },
    {
      "cell_type": "code",
      "metadata": {
        "colab": {
          "base_uri": "https://localhost:8080/"
        },
        "id": "kimDwGnRXXcU",
        "outputId": "422e3869-72f8-495a-cb5f-3250c1ec031c"
      },
      "source": [
        "from sklearn.metrics import mean_absolute_error\n",
        "print(\"MAE\",mean_absolute_error(y11_test,y11_pred))\n",
        "\n",
        "from sklearn.metrics import mean_squared_error\n",
        "print(\"MSE\",mean_squared_error(y11_test,y11_pred))\n",
        "\n",
        "print(\"RMSE\",np.sqrt(mean_squared_error(y11_test,y11_pred)))\n",
        "\n",
        "print(\"RMSLE\",np.log(np.sqrt(mean_squared_error(y11_test,y11_pred))))\n",
        "\n",
        "from sklearn.metrics import r2_score\n",
        "r2 = r2_score(y11_test,y11_pred)\n",
        "print(r2)"
      ],
      "execution_count": 145,
      "outputs": [
        {
          "output_type": "stream",
          "name": "stdout",
          "text": [
            "MAE 115804.35273718674\n",
            "MSE 21580252766.62928\n",
            "RMSE 146902.18775303953\n",
            "RMSLE 11.89752225485597\n",
            "0.4005610501153919\n"
          ]
        }
      ]
    },
    {
      "cell_type": "markdown",
      "metadata": {
        "id": "g1CeFpUgXg7d"
      },
      "source": [
        "Suprisingly the accuracy has dropped further so we will stick to the first model using all the feature sets but try other regression techniques that tolarate multicollinearity and check their metrics."
      ]
    },
    {
      "cell_type": "code",
      "metadata": {
        "colab": {
          "base_uri": "https://localhost:8080/",
          "height": 731
        },
        "id": "xlEFiVp4qKkj",
        "outputId": "0bc46f11-2573-419b-a7d1-2a1a9362259c"
      },
      "source": [
        "import statsmodels.api as sm\n",
        "\n",
        "X_constant = sm.add_constant(X1)\n",
        "lin_reg = sm.OLS(y1,X_constant).fit()\n",
        "lin_reg.summary()"
      ],
      "execution_count": 46,
      "outputs": [
        {
          "output_type": "stream",
          "name": "stderr",
          "text": [
            "/usr/local/lib/python3.7/dist-packages/statsmodels/tools/_testing.py:19: FutureWarning: pandas.util.testing is deprecated. Use the functions in the public API at pandas.testing instead.\n",
            "  import pandas.util.testing as tm\n"
          ]
        },
        {
          "output_type": "execute_result",
          "data": {
            "text/html": [
              "<table class=\"simpletable\">\n",
              "<caption>OLS Regression Results</caption>\n",
              "<tr>\n",
              "  <th>Dep. Variable:</th>          <td>price</td>      <th>  R-squared:         </th>  <td>   0.432</td>  \n",
              "</tr>\n",
              "<tr>\n",
              "  <th>Model:</th>                   <td>OLS</td>       <th>  Adj. R-squared:    </th>  <td>   0.432</td>  \n",
              "</tr>\n",
              "<tr>\n",
              "  <th>Method:</th>             <td>Least Squares</td>  <th>  F-statistic:       </th>  <td>   1263.</td>  \n",
              "</tr>\n",
              "<tr>\n",
              "  <th>Date:</th>             <td>Sat, 27 Nov 2021</td> <th>  Prob (F-statistic):</th>   <td>  0.00</td>   \n",
              "</tr>\n",
              "<tr>\n",
              "  <th>Time:</th>                 <td>07:51:48</td>     <th>  Log-Likelihood:    </th> <td>-2.2075e+05</td>\n",
              "</tr>\n",
              "<tr>\n",
              "  <th>No. Observations:</th>      <td> 16612</td>      <th>  AIC:               </th>  <td>4.415e+05</td> \n",
              "</tr>\n",
              "<tr>\n",
              "  <th>Df Residuals:</th>          <td> 16601</td>      <th>  BIC:               </th>  <td>4.416e+05</td> \n",
              "</tr>\n",
              "<tr>\n",
              "  <th>Df Model:</th>              <td>    10</td>      <th>                     </th>      <td> </td>     \n",
              "</tr>\n",
              "<tr>\n",
              "  <th>Covariance Type:</th>      <td>nonrobust</td>    <th>                     </th>      <td> </td>     \n",
              "</tr>\n",
              "</table>\n",
              "<table class=\"simpletable\">\n",
              "<tr>\n",
              "    <td></td>       <th>coef</th>     <th>std err</th>      <th>t</th>      <th>P>|t|</th>  <th>[0.025</th>    <th>0.975]</th>  \n",
              "</tr>\n",
              "<tr>\n",
              "  <th>const</th> <td> 4.524e+05</td> <td> 1108.721</td> <td>  408.042</td> <td> 0.000</td> <td>  4.5e+05</td> <td> 4.55e+05</td>\n",
              "</tr>\n",
              "<tr>\n",
              "  <th>x1</th>    <td>-9745.4580</td> <td> 1437.042</td> <td>   -6.782</td> <td> 0.000</td> <td>-1.26e+04</td> <td>-6928.703</td>\n",
              "</tr>\n",
              "<tr>\n",
              "  <th>x2</th>    <td>-2.588e+04</td> <td> 1726.161</td> <td>  -14.993</td> <td> 0.000</td> <td>-2.93e+04</td> <td>-2.25e+04</td>\n",
              "</tr>\n",
              "<tr>\n",
              "  <th>x3</th>    <td> 3.739e+04</td> <td> 1194.380</td> <td>   31.306</td> <td> 0.000</td> <td> 3.51e+04</td> <td> 3.97e+04</td>\n",
              "</tr>\n",
              "<tr>\n",
              "  <th>x4</th>    <td>-1.124e+04</td> <td> 2360.000</td> <td>   -4.761</td> <td> 0.000</td> <td>-1.59e+04</td> <td>-6610.822</td>\n",
              "</tr>\n",
              "<tr>\n",
              "  <th>x5</th>    <td>  880.0193</td> <td> 1774.785</td> <td>    0.496</td> <td> 0.620</td> <td>-2598.748</td> <td> 4358.787</td>\n",
              "</tr>\n",
              "<tr>\n",
              "  <th>x6</th>    <td> 3.216e+04</td> <td> 1173.762</td> <td>   27.397</td> <td> 0.000</td> <td> 2.99e+04</td> <td> 3.45e+04</td>\n",
              "</tr>\n",
              "<tr>\n",
              "  <th>x7</th>    <td>   6.9e+04</td> <td> 1626.362</td> <td>   42.426</td> <td> 0.000</td> <td> 6.58e+04</td> <td> 7.22e+04</td>\n",
              "</tr>\n",
              "<tr>\n",
              "  <th>x8</th>    <td> 1.714e+04</td> <td> 1198.096</td> <td>   14.303</td> <td> 0.000</td> <td> 1.48e+04</td> <td> 1.95e+04</td>\n",
              "</tr>\n",
              "<tr>\n",
              "  <th>x9</th>    <td>  3.56e+04</td> <td> 1139.539</td> <td>   31.241</td> <td> 0.000</td> <td> 3.34e+04</td> <td> 3.78e+04</td>\n",
              "</tr>\n",
              "<tr>\n",
              "  <th>x10</th>   <td> 3.318e+04</td> <td> 1728.230</td> <td>   19.197</td> <td> 0.000</td> <td> 2.98e+04</td> <td> 3.66e+04</td>\n",
              "</tr>\n",
              "<tr>\n",
              "  <th>x11</th>   <td>-2.806e+04</td> <td> 2364.764</td> <td>  -11.868</td> <td> 0.000</td> <td>-3.27e+04</td> <td>-2.34e+04</td>\n",
              "</tr>\n",
              "</table>\n",
              "<table class=\"simpletable\">\n",
              "<tr>\n",
              "  <th>Omnibus:</th>       <td>993.607</td> <th>  Durbin-Watson:     </th> <td>   1.979</td> \n",
              "</tr>\n",
              "<tr>\n",
              "  <th>Prob(Omnibus):</th> <td> 0.000</td>  <th>  Jarque-Bera (JB):  </th> <td>1292.047</td> \n",
              "</tr>\n",
              "<tr>\n",
              "  <th>Skew:</th>          <td> 0.567</td>  <th>  Prob(JB):          </th> <td>2.73e-281</td>\n",
              "</tr>\n",
              "<tr>\n",
              "  <th>Kurtosis:</th>      <td> 3.763</td>  <th>  Cond. No.          </th> <td>6.24e+15</td> \n",
              "</tr>\n",
              "</table><br/><br/>Warnings:<br/>[1] Standard Errors assume that the covariance matrix of the errors is correctly specified.<br/>[2] The smallest eigenvalue is 1.81e-27. This might indicate that there are<br/>strong multicollinearity problems or that the design matrix is singular."
            ],
            "text/plain": [
              "<class 'statsmodels.iolib.summary.Summary'>\n",
              "\"\"\"\n",
              "                            OLS Regression Results                            \n",
              "==============================================================================\n",
              "Dep. Variable:                  price   R-squared:                       0.432\n",
              "Model:                            OLS   Adj. R-squared:                  0.432\n",
              "Method:                 Least Squares   F-statistic:                     1263.\n",
              "Date:                Sat, 27 Nov 2021   Prob (F-statistic):               0.00\n",
              "Time:                        07:51:48   Log-Likelihood:            -2.2075e+05\n",
              "No. Observations:               16612   AIC:                         4.415e+05\n",
              "Df Residuals:                   16601   BIC:                         4.416e+05\n",
              "Df Model:                          10                                         \n",
              "Covariance Type:            nonrobust                                         \n",
              "==============================================================================\n",
              "                 coef    std err          t      P>|t|      [0.025      0.975]\n",
              "------------------------------------------------------------------------------\n",
              "const       4.524e+05   1108.721    408.042      0.000     4.5e+05    4.55e+05\n",
              "x1         -9745.4580   1437.042     -6.782      0.000   -1.26e+04   -6928.703\n",
              "x2         -2.588e+04   1726.161    -14.993      0.000   -2.93e+04   -2.25e+04\n",
              "x3          3.739e+04   1194.380     31.306      0.000    3.51e+04    3.97e+04\n",
              "x4         -1.124e+04   2360.000     -4.761      0.000   -1.59e+04   -6610.822\n",
              "x5           880.0193   1774.785      0.496      0.620   -2598.748    4358.787\n",
              "x6          3.216e+04   1173.762     27.397      0.000    2.99e+04    3.45e+04\n",
              "x7            6.9e+04   1626.362     42.426      0.000    6.58e+04    7.22e+04\n",
              "x8          1.714e+04   1198.096     14.303      0.000    1.48e+04    1.95e+04\n",
              "x9           3.56e+04   1139.539     31.241      0.000    3.34e+04    3.78e+04\n",
              "x10         3.318e+04   1728.230     19.197      0.000    2.98e+04    3.66e+04\n",
              "x11        -2.806e+04   2364.764    -11.868      0.000   -3.27e+04   -2.34e+04\n",
              "==============================================================================\n",
              "Omnibus:                      993.607   Durbin-Watson:                   1.979\n",
              "Prob(Omnibus):                  0.000   Jarque-Bera (JB):             1292.047\n",
              "Skew:                           0.567   Prob(JB):                    2.73e-281\n",
              "Kurtosis:                       3.763   Cond. No.                     6.24e+15\n",
              "==============================================================================\n",
              "\n",
              "Warnings:\n",
              "[1] Standard Errors assume that the covariance matrix of the errors is correctly specified.\n",
              "[2] The smallest eigenvalue is 1.81e-27. This might indicate that there are\n",
              "strong multicollinearity problems or that the design matrix is singular.\n",
              "\"\"\""
            ]
          },
          "metadata": {},
          "execution_count": 46
        }
      ]
    },
    {
      "cell_type": "markdown",
      "metadata": {
        "id": "Q17qJc_TYamw"
      },
      "source": [
        "From this output we notice that our model suffers largely from multi collinearity."
      ]
    },
    {
      "cell_type": "markdown",
      "metadata": {
        "id": "C6bKHwWaWGZi"
      },
      "source": [
        "**ASSUMPTION 2: AUTOCORRELATION**"
      ]
    },
    {
      "cell_type": "markdown",
      "metadata": {
        "id": "P21jcUanWWIs"
      },
      "source": [
        "From the Durbin Watson test for autocorrelation, it states the following bounds \n",
        "\n",
        "*   If: DW = 2 Then there is no correlation\n",
        "*       0 < DW < 2 then there is a positive correlation  between the error terms.\n",
        "\n",
        "*       2 < DW < 4 then there is a negative correlation among the error terms.\n",
        "\n",
        "Therefore since our Dw figure is 1.979 we can say that there is a positive correlation between the error terms/residuals. Hence there is autocorrelation.\n",
        "\n",
        "\n",
        "\n",
        "\n"
      ]
    },
    {
      "cell_type": "markdown",
      "metadata": {
        "id": "XNL9x5WdrJNs"
      },
      "source": [
        "**ASSUMPTION 3: LINEARITY** "
      ]
    },
    {
      "cell_type": "markdown",
      "metadata": {
        "id": "XxCvx696ksxh"
      },
      "source": [
        "**Residuals Plot**"
      ]
    },
    {
      "cell_type": "code",
      "metadata": {
        "colab": {
          "base_uri": "https://localhost:8080/"
        },
        "id": "CHFVek5FkzHZ",
        "outputId": "941a71f5-2bdb-4cb5-804c-8fe6dd1ea81a"
      },
      "source": [
        "#To find the residual mean:\n",
        "residuals = np.subtract(y1_pred, y1_test)\n",
        "\n",
        "#Describe the residual:\n",
        "pd.DataFrame(residuals).describe()\n",
        "residuals.mean()"
      ],
      "execution_count": 47,
      "outputs": [
        {
          "output_type": "execute_result",
          "data": {
            "text/plain": [
              "-1286.5023114641604"
            ]
          },
          "metadata": {},
          "execution_count": 47
        }
      ]
    },
    {
      "cell_type": "code",
      "metadata": {
        "colab": {
          "base_uri": "https://localhost:8080/",
          "height": 621
        },
        "id": "3yktfnqYk-CX",
        "outputId": "5911ad06-0fbe-4f31-b08c-fcf03d9aecb7"
      },
      "source": [
        "#Plotting the residual plot: \n",
        "plt.figure(figsize = (10,10))\n",
        "plt.scatter(y1_pred, residuals, color='black')\n",
        "plt.ylabel('residual')\n",
        "plt.xlabel('fitted values')\n",
        "plt.axhline(y= residuals.mean(), color='red', linewidth=1)\n",
        "plt.title('Residual Plot')\n",
        "plt.show()"
      ],
      "execution_count": 48,
      "outputs": [
        {
          "output_type": "display_data",
          "data": {
            "image/png": "[encoded data removed]",
            "text/plain": [
              "<Figure size 720x720 with 1 Axes>"
            ]
          },
          "metadata": {
            "needs_background": "light"
          }
        }
      ]
    },
    {
      "cell_type": "markdown",
      "metadata": {
        "id": "4k3zdTkNlP8o"
      },
      "source": [
        "By looking at the residuals plot we can confidently say that it's funnel shaped. This gives us the impression that there is no constant variance among the error terms. It can imply that the data doesnt follow a linear pattern hence implying non linearity.\n",
        "\n",
        "We can also conclude that using Multiple linear regression isnt the best way to get the prices prediction."
      ]
    },
    {
      "cell_type": "markdown",
      "metadata": {
        "id": "UJid2l-3a8HF"
      },
      "source": [
        "**ASSUMPTION 4: HETEROSKEDASTICITY**"
      ]
    },
    {
      "cell_type": "markdown",
      "metadata": {
        "id": "gnqMpgXUuiYt"
      },
      "source": [
        "**Barlett's Test of Heteroscedasticity**"
      ]
    },
    {
      "cell_type": "code",
      "metadata": {
        "colab": {
          "base_uri": "https://localhost:8080/"
        },
        "id": "TU2WNT4puckX",
        "outputId": "24a7658b-d714-430f-8432-05c875362c4d"
      },
      "source": [
        "import scipy as sp\n",
        "\n",
        "test_result, p_value = sp.stats.bartlett(y1_pred, residuals)\n",
        "\n",
        "# We compute a critical value of the chi squared distribution\n",
        "degree_of_freedom = len(y1_pred)-1\n",
        "probability = 1 - p_value\n",
        "\n",
        "critical_value = sp.stats.chi2.ppf(probability, degree_of_freedom)\n",
        "print(\"The critical value is:\", critical_value)\n",
        "\n",
        "# If the test_result is greater than the critical value, then\n",
        "# this would mean that there are patterns to the variance of the data\n",
        "\n",
        "# Otherwise, we can identify no patterns, and we accept that \n",
        "# the variance is homogeneous across our data\n",
        "\n",
        "if (test_result > critical_value):\n",
        "  print('the variances are unequal, and there is Heteroscedasticity.')\n",
        "else:\n",
        "  print('The variances are homogeneous hence there is Homoscedasticity.')"
      ],
      "execution_count": 50,
      "outputs": [
        {
          "output_type": "stream",
          "name": "stdout",
          "text": [
            "The critical value is: 3975.613861541461\n",
            "The variances are homogeneous hence there is Homoscedasticity.\n"
          ]
        }
      ]
    },
    {
      "cell_type": "markdown",
      "metadata": {
        "id": "s58iGQxdq-i8"
      },
      "source": [
        "**ASSUMPTION 5: NORMAL DISTRIBUTION OF ERROR TERMS**"
      ]
    },
    {
      "cell_type": "code",
      "metadata": {
        "colab": {
          "base_uri": "https://localhost:8080/"
        },
        "id": "tMO-KD9umSyw",
        "outputId": "a638ea39-410d-4e35-c37d-493bac372a9d"
      },
      "source": [
        "lin_reg.resid.mean()"
      ],
      "execution_count": 51,
      "outputs": [
        {
          "output_type": "execute_result",
          "data": {
            "text/plain": [
              "-7.720959596847185e-11"
            ]
          },
          "metadata": {},
          "execution_count": 51
        }
      ]
    },
    {
      "cell_type": "markdown",
      "metadata": {
        "id": "-Wde-oaLrSVf"
      },
      "source": [
        "From this results the error terms roughly indicate a mean of  0. So we can state that the OLS assumption was met here."
      ]
    },
    {
      "cell_type": "markdown",
      "metadata": {
        "id": "7ULkzTdjZSZh"
      },
      "source": [
        "From the above we notice that the highest accuracy achieved was 43.32 percent so we are going to try using other techniques and see if it changes."
      ]
    },
    {
      "cell_type": "markdown",
      "metadata": {
        "id": "-fCWgBgzt1lH"
      },
      "source": [
        "**QUANTILE REGRESSION**"
      ]
    },
    {
      "cell_type": "markdown",
      "metadata": {
        "id": "9nnPClgrgpNZ"
      },
      "source": [
        "Quantile regression is used when you want to find the effect of regression at particular points say 20 percentile or so. Its an extension of multiple Linear regression but does not use mean."
      ]
    },
    {
      "cell_type": "code",
      "metadata": {
        "id": "BrEsd5U6qFKF"
      },
      "source": [
        "%matplotlib inline"
      ],
      "execution_count": 182,
      "outputs": []
    },
    {
      "cell_type": "code",
      "metadata": {
        "id": "7Hulyf7JqJi8"
      },
      "source": [
        "import numpy as np\n",
        "import pandas as pd\n",
        "import statsmodels.api as sm\n",
        "import statsmodels.formula.api as smf\n",
        "import matplotlib.pyplot as plt"
      ],
      "execution_count": 146,
      "outputs": []
    },
    {
      "cell_type": "code",
      "metadata": {
        "id": "67JeCBMA0AOg"
      },
      "source": [
        "# Splitting our data into training and test sets\n",
        "\n",
        "X2 = df[['bedrooms', 'bathrooms', 'sqft_living', 'sqft_lot', 'floors',\n",
        "       'condition', 'grade', 'sqft_basement', 'sqft_living15', 'sqft_lot15']].values\n",
        "y2 = df['price'].values\n",
        "X2_train, X2_test, y2_train, y2_test = train_test_split(X2, y2, test_size=0.25, random_state=0)"
      ],
      "execution_count": 147,
      "outputs": []
    },
    {
      "cell_type": "code",
      "metadata": {
        "colab": {
          "base_uri": "https://localhost:8080/"
        },
        "id": "751Btt9A0VQc",
        "outputId": "1585b9aa-d483-43ec-ae51-d1f26943331e"
      },
      "source": [
        "# Finding the regression coefficients for the conditioned median, 0.5 quantile\n",
        "\n",
        "import statsmodels.formula.api as smf\n",
        "mod = smf.quantreg('y2 ~ X2', df)\n",
        "res = mod.fit(q=.5)\n",
        "res\n",
        "# Then print out the summary of our model\n",
        "#\n",
        "print(res.summary())"
      ],
      "execution_count": 148,
      "outputs": [
        {
          "output_type": "stream",
          "name": "stdout",
          "text": [
            "                         QuantReg Regression Results                          \n",
            "==============================================================================\n",
            "Dep. Variable:                     y2   Pseudo R-squared:               0.2546\n",
            "Model:                       QuantReg   Bandwidth:                   2.624e+04\n",
            "Method:                 Least Squares   Sparsity:                    3.427e+05\n",
            "Date:                Sat, 27 Nov 2021   No. Observations:                16612\n",
            "Time:                        10:39:04   Df Residuals:                    16601\n",
            "                                        Df Model:                           10\n",
            "==============================================================================\n",
            "                 coef    std err          t      P>|t|      [0.025      0.975]\n",
            "------------------------------------------------------------------------------\n",
            "Intercept  -4.663e+05   1.76e+04    -26.444      0.000   -5.01e+05   -4.32e+05\n",
            "X2[0]       -1.55e+04   2222.664     -6.973      0.000   -1.99e+04   -1.11e+04\n",
            "X2[1]      -4.764e+04   3189.049    -14.939      0.000   -5.39e+04   -4.14e+04\n",
            "X2[2]         93.8761      4.498     20.870      0.000      85.059     102.693\n",
            "X2[3]         -4.5631      0.836     -5.458      0.000      -6.202      -2.924\n",
            "X2[4]      -4812.6887   3910.575     -1.231      0.218   -1.25e+04    2852.457\n",
            "X2[5]       4.984e+04   2182.626     22.833      0.000    4.56e+04    5.41e+04\n",
            "X2[6]       9.099e+04   2402.278     37.876      0.000    8.63e+04    9.57e+04\n",
            "X2[7]         72.6089      4.861     14.937      0.000      63.081      82.137\n",
            "X2[8]         68.4700      4.024     17.016      0.000      60.583      76.357\n",
            "X2[9]         -9.3062      0.940     -9.898      0.000     -11.149      -7.463\n",
            "==============================================================================\n",
            "\n",
            "The condition number is large, 1.48e+05. This might indicate that there are\n",
            "strong multicollinearity or other numerical problems.\n"
          ]
        }
      ]
    },
    {
      "cell_type": "code",
      "metadata": {
        "colab": {
          "base_uri": "https://localhost:8080/"
        },
        "id": "C4fLpA7u1M1h",
        "outputId": "a2cb8741-b8c8-4af3-b3cf-ede24b252d65"
      },
      "source": [
        "# This is our prediction for price based on our model\n",
        "y2_pred = res.predict()\n",
        "\n",
        "quantile_R2 = m = r2_score(y2, y2_pred)\n",
        "print(\"The R2 score for the quantile regression model is:\", quantile_R2)"
      ],
      "execution_count": 151,
      "outputs": [
        {
          "output_type": "stream",
          "name": "stdout",
          "text": [
            "The R2 score for the quantile regression model is: 0.4283898350812726\n"
          ]
        }
      ]
    },
    {
      "cell_type": "code",
      "metadata": {
        "colab": {
          "base_uri": "https://localhost:8080/"
        },
        "id": "gMATQFYk1TSY",
        "outputId": "c63dfa0d-b005-4d28-e061-51cf6e2a08a6"
      },
      "source": [
        "#Checking the accuracy scores\n",
        "from sklearn.metrics import mean_absolute_error\n",
        "print(\"MAE\",mean_absolute_error(y2,y2_pred))\n",
        "\n",
        "from sklearn.metrics import mean_squared_error\n",
        "print(\"MSE\",mean_squared_error(y2,y2_pred))\n",
        "\n",
        "print(\"RMSE\",np.sqrt(mean_squared_error(y2,y2_pred)))\n",
        "\n",
        "print(\"RMSLE\",np.log(np.sqrt(mean_squared_error(y2,y2_pred))))\n",
        "\n",
        "from sklearn.metrics import r2_score\n",
        "r2 = r2_score(y2,y2_pred)\n",
        "print(r2)"
      ],
      "execution_count": 152,
      "outputs": [
        {
          "output_type": "stream",
          "name": "stdout",
          "text": [
            "MAE 111554.71963362658\n",
            "MSE 20537648649.674183\n",
            "RMSE 143309.62511176345\n",
            "RMSLE 11.872762779123523\n",
            "0.4283898350812726\n"
          ]
        }
      ]
    },
    {
      "cell_type": "markdown",
      "metadata": {
        "id": "bsMnG-LMbrbh"
      },
      "source": [
        "The accuracy score of using the quantile regression is 42.84 percent."
      ]
    },
    {
      "cell_type": "markdown",
      "metadata": {
        "id": "AW5cRR8o88-q"
      },
      "source": [
        "**RIDGE REGRESSION**"
      ]
    },
    {
      "cell_type": "markdown",
      "metadata": {
        "id": "AoX1NEfFfmsv"
      },
      "source": [
        "Ridge regression uses the L2 regularisation to penalize the error term. It uses an alpha term also called Lambda to regularise the penalty applied to the error term. It penalises the error term by adding bias to the square values."
      ]
    },
    {
      "cell_type": "code",
      "metadata": {
        "id": "O0G6IzYN9FTC"
      },
      "source": [
        "# Importing our libraries\n",
        "# \n",
        "import numpy as np\n",
        "import pandas as pd\n",
        "from sklearn.model_selection import GridSearchCV\n",
        "from sklearn.linear_model import Ridge\n",
        "from sklearn.linear_model import LinearRegression\n",
        "from sklearn.metrics import mean_squared_error"
      ],
      "execution_count": 153,
      "outputs": []
    },
    {
      "cell_type": "code",
      "metadata": {
        "id": "nw21Pc1LkpoZ"
      },
      "source": [
        "#Separating the target set from the feature set\n",
        "X3 = df.drop([\"price\"], axis =1)\n",
        "y3 = df[\"price\"]"
      ],
      "execution_count": 154,
      "outputs": []
    },
    {
      "cell_type": "code",
      "metadata": {
        "id": "eW7k-au7lBqk"
      },
      "source": [
        "# Importing StandardScaler\n",
        "#\n",
        "from sklearn.preprocessing import StandardScaler\n",
        "\n",
        "# Scaling data \n",
        "#\n",
        "scaler = StandardScaler()\n",
        "scaler.fit(X3)\n",
        "X3 = scaler.transform(X3)"
      ],
      "execution_count": 155,
      "outputs": []
    },
    {
      "cell_type": "code",
      "metadata": {
        "id": "U2LDraYFlJwa"
      },
      "source": [
        "from sklearn.model_selection import train_test_split\n",
        "\n",
        "X3_train, X3_test, y3_train, y3_test = train_test_split(X3, y3, test_size=0.25, random_state=0)"
      ],
      "execution_count": 156,
      "outputs": []
    },
    {
      "cell_type": "code",
      "metadata": {
        "id": "eWOjT_q0mzkb"
      },
      "source": [
        "# determining the most appropriate value for alpha.\n",
        " \n",
        "ridge = Ridge(normalize=True)\n",
        "search = GridSearchCV(estimator=ridge,param_grid={'alpha':np.logspace(-5,2,8)},scoring='neg_mean_squared_error',n_jobs=1,refit=True,cv=10)"
      ],
      "execution_count": 157,
      "outputs": []
    },
    {
      "cell_type": "code",
      "metadata": {
        "colab": {
          "base_uri": "https://localhost:8080/"
        },
        "id": "R_taGyGDckJi",
        "outputId": "cfa1080d-425b-430b-c687-239a89998622"
      },
      "source": [
        "# We now use the .fit function to run the model and then use the .best_params_ and\n",
        "#  .best_scores_ function to determine the models strength. \n",
        "# \n",
        "import warnings\n",
        "warnings.filterwarnings('ignore')\n",
        "\n",
        "search.fit(X3_train,y3_train)\n",
        "search.best_params_"
      ],
      "execution_count": 158,
      "outputs": [
        {
          "output_type": "execute_result",
          "data": {
            "text/plain": [
              "{'alpha': 0.001}"
            ]
          },
          "metadata": {},
          "execution_count": 158
        }
      ]
    },
    {
      "cell_type": "markdown",
      "metadata": {
        "id": "rpAKmC4IcqDa"
      },
      "source": [
        "From that search we find that the best alpha is 0.001"
      ]
    },
    {
      "cell_type": "code",
      "metadata": {
        "colab": {
          "base_uri": "https://localhost:8080/"
        },
        "id": "guBm6bxUc-g3",
        "outputId": "20c21d83-38f7-46e0-96f7-483627ba0382"
      },
      "source": [
        "# We can confirm this by fitting our model with the ridge information and finding the mean squared error below\n",
        "#\n",
        "ridge = Ridge(normalize=True,alpha=0.001)\n",
        "ridge.fit(X3_train,y3_train)\n",
        "y3_pred = ridge.predict(X3_test)\n",
        "\n",
        "Ridge_R2 = n = r2_score(y3_test, y3_pred)\n",
        "print(\"The R2 score for the Ridge regression model is:\", Ridge_R2)"
      ],
      "execution_count": 170,
      "outputs": [
        {
          "output_type": "stream",
          "name": "stdout",
          "text": [
            "The R2 score for the Ridge regression model is: 0.438291559290934\n"
          ]
        }
      ]
    },
    {
      "cell_type": "code",
      "metadata": {
        "colab": {
          "base_uri": "https://localhost:8080/"
        },
        "id": "jRshSNdqdhjU",
        "outputId": "62f5d313-e146-4fe7-fa0c-b952b100c738"
      },
      "source": [
        "#Checking the accuracy scores\n",
        "from sklearn.metrics import mean_absolute_error\n",
        "print(\"MAE\",mean_absolute_error(y3_test,y3_pred))\n",
        "\n",
        "from sklearn.metrics import mean_squared_error\n",
        "print(\"MSE\",mean_squared_error(y3_test,y3_pred))\n",
        "\n",
        "print(\"RMSE\",np.sqrt(mean_squared_error(y3_test,y3_pred)))\n",
        "\n",
        "print(\"RMSLE\",np.log(np.sqrt(mean_squared_error(y3_test,y3_pred))))\n",
        "\n",
        "from sklearn.metrics import r2_score\n",
        "r2 = r2_score(y3_test,y3_pred)\n",
        "print(r2)"
      ],
      "execution_count": 163,
      "outputs": [
        {
          "output_type": "stream",
          "name": "stdout",
          "text": [
            "MAE 111074.74007205681\n",
            "MSE 20144213969.75965\n",
            "RMSE 141930.313780248\n",
            "RMSLE 11.863091468100752\n",
            "0.438291559290934\n"
          ]
        }
      ]
    },
    {
      "cell_type": "markdown",
      "metadata": {
        "id": "OqlGBULYb4dB"
      },
      "source": [
        "The accuracy score of using Ridge regression is 43.83 percent."
      ]
    },
    {
      "cell_type": "markdown",
      "metadata": {
        "id": "XagbrDE5__ow"
      },
      "source": [
        "**Lasso regression**"
      ]
    },
    {
      "cell_type": "markdown",
      "metadata": {
        "id": "FTeL4Bizepwa"
      },
      "source": [
        "Lasson regression L1 regularisation to penalise the error terms by adding bias to the absolute value. Similarly to the ridge it uses lambda also called alpha to regularise the penalty term added. During penalisation, it can bring the coefficients of a variable to zero if it deems it not that useful to prediction."
      ]
    },
    {
      "cell_type": "code",
      "metadata": {
        "id": "9kY4Zu8ioW0_"
      },
      "source": [
        "X4 = df.drop([\"price\"], axis =1)\n",
        "y4 = df[\"price\"]"
      ],
      "execution_count": 164,
      "outputs": []
    },
    {
      "cell_type": "code",
      "metadata": {
        "id": "uw4OkgDZodzd"
      },
      "source": [
        "# Importing StandardScaler\n",
        "#\n",
        "from sklearn.preprocessing import StandardScaler\n",
        "\n",
        "# Scaling data \n",
        "#\n",
        "scaler = StandardScaler()\n",
        "scaler.fit(X4)\n",
        "X4 = scaler.transform(X4)"
      ],
      "execution_count": 165,
      "outputs": []
    },
    {
      "cell_type": "code",
      "metadata": {
        "id": "2dt3Zrdcoog7"
      },
      "source": [
        "from sklearn.model_selection import train_test_split\n",
        "\n",
        "X4_train, X4_test, y4_train, y4_test = train_test_split(X4, y4, test_size=0.25, random_state=0)"
      ],
      "execution_count": 166,
      "outputs": []
    },
    {
      "cell_type": "code",
      "metadata": {
        "id": "R16T1sPvgPp6"
      },
      "source": [
        "# Creating lasso object\n",
        "# \n",
        "# import Lasso regression from sklearn library\n",
        "from sklearn.linear_model import Lasso\n",
        "from sklearn import linear_model\n",
        "\n",
        "lasso = linear_model.Lasso() \n",
        "\n",
        "parameters = {'alpha': np.concatenate((np.arange(0.1,2,0.1), np.arange(2, 5, 0.5), np.arange(5, 25, 1)))}\n",
        "\n",
        "lasso = linear_model.Lasso() \n",
        "gridlasso = GridSearchCV(lasso, parameters, scoring ='r2')"
      ],
      "execution_count": 167,
      "outputs": []
    },
    {
      "cell_type": "code",
      "metadata": {
        "colab": {
          "base_uri": "https://localhost:8080/"
        },
        "id": "87CjTWB_gy7d",
        "outputId": "db700403-1075-4be8-e7e5-285584fde016"
      },
      "source": [
        "# Fitting models and getting RMSE\n",
        "\n",
        "import warnings\n",
        "warnings.filterwarnings('ignore')\n",
        "\n",
        "gridlasso.fit(X4_train, y4_train) \n",
        "y4_pred = gridlasso.predict(X4_test)\n",
        "d = r2_score(y4_test,y4_pred)\n",
        "\n",
        "Lasso_R2 = o = r2_score(y4_test, y4_pred)\n",
        "print(\"The R2 score for the lasso regression model is:\", Lasso_R2)"
      ],
      "execution_count": 171,
      "outputs": [
        {
          "output_type": "stream",
          "name": "stdout",
          "text": [
            "The R2 score for the lasso regression model is: 0.43828265321170423\n"
          ]
        }
      ]
    },
    {
      "cell_type": "code",
      "metadata": {
        "colab": {
          "base_uri": "https://localhost:8080/"
        },
        "id": "3nRk2rEvhQ0w",
        "outputId": "78322a1c-885d-4584-f457-97b73742ea98"
      },
      "source": [
        "#Checking the accuracy scores\n",
        "from sklearn.metrics import mean_absolute_error\n",
        "print(\"MAE\",mean_absolute_error(y4_test,y4_pred))\n",
        "\n",
        "from sklearn.metrics import mean_squared_error\n",
        "print(\"MSE\",mean_squared_error(y4_test,y4_pred))\n",
        "\n",
        "print(\"RMSE\",np.sqrt(mean_squared_error(y4_test,y4_pred)))\n",
        "\n",
        "print(\"RMSLE\",np.log(np.sqrt(mean_squared_error(y4_test,y4_pred))))\n",
        "\n",
        "from sklearn.metrics import r2_score\n",
        "r2 = r2_score(y4_test,y4_pred)\n",
        "print(r2)"
      ],
      "execution_count": 172,
      "outputs": [
        {
          "output_type": "stream",
          "name": "stdout",
          "text": [
            "MAE 111073.62938698486\n",
            "MSE 20144533363.154217\n",
            "RMSE 141931.43895259505\n",
            "RMSLE 11.863099395708725\n",
            "0.43828265321170423\n"
          ]
        }
      ]
    },
    {
      "cell_type": "markdown",
      "metadata": {
        "id": "F7EloUf0jB5Z"
      },
      "source": [
        "**Elastic Net Regression**"
      ]
    },
    {
      "cell_type": "markdown",
      "metadata": {
        "id": "QrmZ6lIId5Z7"
      },
      "source": [
        "Elastic net regression acts as an hybrid of both Lasso and Ridge regression. The features that ridge cannot provide such as doing feature selection are incorporated here. Also, the problem of Lasso equation correlated features to zero is handled properly by combining the Ridge's power of grouping correlated variables. For this to be possible, Elastic net uses An alpha and L1 regulariser to control the penalisation of the error terms."
      ]
    },
    {
      "cell_type": "code",
      "metadata": {
        "id": "av9NJ-TzjG1W"
      },
      "source": [
        "#separating  the feature set from the target variable\n",
        "X5 = df.drop([\"price\"], axis =1)\n",
        "y5 = df[\"price\"]"
      ],
      "execution_count": 173,
      "outputs": []
    },
    {
      "cell_type": "code",
      "metadata": {
        "id": "pdRwYh8Lj-Dc"
      },
      "source": [
        "# Importing StandardScaler\n",
        "#\n",
        "from sklearn.preprocessing import StandardScaler\n",
        "\n",
        "# Scaling data \n",
        "#\n",
        "scaler = StandardScaler()\n",
        "scaler.fit(X5)\n",
        "X5 = scaler.transform(X5)"
      ],
      "execution_count": 174,
      "outputs": []
    },
    {
      "cell_type": "code",
      "metadata": {
        "id": "HfcAptStkLqf"
      },
      "source": [
        "from sklearn.model_selection import train_test_split\n",
        "\n",
        "X5_train, X5_test, y5_train, y5_test = train_test_split(X5, y5, test_size=0.25, random_state=0)"
      ],
      "execution_count": 175,
      "outputs": []
    },
    {
      "cell_type": "code",
      "metadata": {
        "id": "4inYJ6AOkhFA"
      },
      "source": [
        "# Normalizing the data and creating our grid.\n",
        "# \n",
        "from sklearn.model_selection import GridSearchCV\n",
        "from sklearn.linear_model import ElasticNet\n",
        "\n",
        "elastic=ElasticNet(normalize=True)\n",
        "search=GridSearchCV(estimator=elastic,param_grid={'alpha':np.logspace(-5,2,8),'l1_ratio':[.2,.4,.6,.8]},scoring='neg_mean_squared_error',n_jobs=1,refit=True,cv=10)"
      ],
      "execution_count": 176,
      "outputs": []
    },
    {
      "cell_type": "code",
      "metadata": {
        "colab": {
          "base_uri": "https://localhost:8080/"
        },
        "id": "2FCdGk8Lk0sc",
        "outputId": "7ef1f9b7-b955-42c8-fc48-8eba55132e91"
      },
      "source": [
        "import warnings\n",
        "warnings.filterwarnings('ignore')\n",
        "\n",
        "search.fit(X5_train,y5_train)\n",
        "search.best_params_"
      ],
      "execution_count": 177,
      "outputs": [
        {
          "output_type": "execute_result",
          "data": {
            "text/plain": [
              "{'alpha': 1e-05, 'l1_ratio': 0.8}"
            ]
          },
          "metadata": {},
          "execution_count": 177
        }
      ]
    },
    {
      "cell_type": "markdown",
      "metadata": {
        "id": "1yAacM14k_BF"
      },
      "source": [
        "We find the best alpha to be 0.00001 and l1 ratio being 0.8"
      ]
    },
    {
      "cell_type": "code",
      "metadata": {
        "colab": {
          "base_uri": "https://localhost:8080/"
        },
        "id": "F8CqP-eGlLGW",
        "outputId": "66e997d7-ec12-4d7e-a2e7-be4eb8dad5e4"
      },
      "source": [
        "# Fitting the model\n",
        "\n",
        "elastic=ElasticNet(normalize=True,alpha=0.00001,l1_ratio=0.8)\n",
        "elastic.fit(X5_train, y5_train)"
      ],
      "execution_count": 95,
      "outputs": [
        {
          "output_type": "execute_result",
          "data": {
            "text/plain": [
              "ElasticNet(alpha=1e-05, l1_ratio=0.8, normalize=True)"
            ]
          },
          "metadata": {},
          "execution_count": 95
        }
      ]
    },
    {
      "cell_type": "code",
      "metadata": {
        "colab": {
          "base_uri": "https://localhost:8080/"
        },
        "id": "pn6Tj1QglVET",
        "outputId": "24e3a66a-0356-4b1c-bf29-5c4705f434b7"
      },
      "source": [
        "# Fitting the model\n",
        "\n",
        "elastic=ElasticNet(normalize=True,alpha=0.00001,l1_ratio=0.8)\n",
        "elastic.fit(X5_train, y5_train)\n",
        "\n",
        "# Making predictions\n",
        "#\n",
        "y5_pred = elastic.predict(X5_test)\n",
        "\n",
        "Elastic_net_R2 = p = r2_score(y5_test, y5_pred)\n",
        "print(\"The R2 score for the Elastic net regression model is:\", Elastic_net_R2)"
      ],
      "execution_count": 179,
      "outputs": [
        {
          "output_type": "stream",
          "name": "stdout",
          "text": [
            "The R2 score for the Elastic net regression model is: 0.43804262529539195\n"
          ]
        }
      ]
    },
    {
      "cell_type": "code",
      "metadata": {
        "colab": {
          "base_uri": "https://localhost:8080/"
        },
        "id": "YL7VoWTHljvh",
        "outputId": "e762dbe8-b52e-403e-a9fc-78160d11eeb3"
      },
      "source": [
        "#Checking the accuracy scores\n",
        "from sklearn.metrics import mean_absolute_error\n",
        "print(\"MAE\",mean_absolute_error(y5_test,y5_pred))\n",
        "\n",
        "from sklearn.metrics import mean_squared_error\n",
        "print(\"MSE\",mean_squared_error(y5_test,y5_pred))\n",
        "\n",
        "print(\"RMSE\",np.sqrt(mean_squared_error(y5_test,y5_pred)))\n",
        "\n",
        "print(\"RMSLE\",np.log(np.sqrt(mean_squared_error(y5_test,y5_pred))))\n",
        "\n",
        "from sklearn.metrics import r2_score\n",
        "r2 = r2_score(y5_test,y5_pred)\n",
        "print(r2)"
      ],
      "execution_count": 180,
      "outputs": [
        {
          "output_type": "stream",
          "name": "stdout",
          "text": [
            "MAE 111187.31525046112\n",
            "MSE 20153141340.80684\n",
            "RMSE 141961.76013563244\n",
            "RMSLE 11.863313005497547\n",
            "0.43804262529539195\n"
          ]
        }
      ]
    },
    {
      "cell_type": "code",
      "metadata": {
        "colab": {
          "base_uri": "https://localhost:8080/"
        },
        "id": "O9gBdsIbCk2D",
        "outputId": "f311a45a-2e9d-4668-bfb0-8da89b093c81"
      },
      "source": [
        "# Comparing all the r2 scores with their respective scores \n",
        "\n",
        "models = ['multi_linear_regression', 'multi_linear_regression_LDA_Coefficients', 'multi_linear_regression_dropped', \n",
        "          'quantile_regressio', 'ridge_regresion', 'lasso_regression', 'elastic_net_regression']\n",
        "r2_scores = [j,k,l,m,n,o,p]\n",
        "model_results = pd.DataFrame({'Regresion models': models, 'r2_scores': r2_scores})\n",
        "print(model_results)"
      ],
      "execution_count": 181,
      "outputs": [
        {
          "output_type": "stream",
          "name": "stdout",
          "text": [
            "                           Regresion models  r2_scores\n",
            "0                   multi_linear_regression   0.433218\n",
            "1  multi_linear_regression_LDA_Coefficients   0.312801\n",
            "2           multi_linear_regression_dropped   0.400561\n",
            "3                        quantile_regressio   0.438292\n",
            "4                           ridge_regresion   0.438292\n",
            "5                          lasso_regression   0.438283\n",
            "6                    elastic_net_regression   0.438043\n"
          ]
        }
      ]
    },
    {
      "cell_type": "markdown",
      "metadata": {
        "id": "trWUTaFKDrX7"
      },
      "source": [
        "# **Conclusion**"
      ]
    },
    {
      "cell_type": "markdown",
      "metadata": {
        "id": "v0WJyAWkDwfl"
      },
      "source": [
        "From the combination of the above scores we note that the model with the best accuracy is the multiple linear regression even though it was faced with numerous problems of multicollinearity. Also we notice that we do not meet our threshold of achieving a 70 percent accuracy levels. "
      ]
    },
    {
      "cell_type": "markdown",
      "metadata": {
        "id": "vQFqSAvjEYZe"
      },
      "source": [
        "# **Reccommendations**"
      ]
    },
    {
      "cell_type": "markdown",
      "metadata": {
        "id": "DgIAWY2uEfUX"
      },
      "source": [
        "Since we are not fully satisfied with our model, we can reccomend that we get new and better data that covers a better scope which also doesnt include unnecessary informations such as renovation year and the rest that we had to drop.\n",
        "\n",
        "We also noticed that when citing the number of bathrooms a house has it was given in a very confusing way since it had values like 1.5, 2.5 and so on. To improve this, we reccommend whole numbers for features that cannot be attributed to floats."
      ]
    }
  ]
}